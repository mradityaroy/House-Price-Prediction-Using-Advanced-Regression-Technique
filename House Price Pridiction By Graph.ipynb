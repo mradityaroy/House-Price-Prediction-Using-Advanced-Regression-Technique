{
 "cells": [
  {
   "cell_type": "code",
   "execution_count": 5,
   "id": "9a81406a",
   "metadata": {},
   "outputs": [],
   "source": [
    "import warnings\n",
    "from pathlib import Path\n",
    "import numpy as np\n",
    "import pandas as pd\n",
    "import matplotlib.pyplot as plt\n",
    "import seaborn as sns\n",
    "from scipy.stats import skew\n",
    "from math import sqrt\n",
    "\n",
    "# sklearn tools\n",
    "from sklearn.model_selection import train_test_split\n",
    "from sklearn.model_selection import cross_val_score\n",
    "from sklearn.preprocessing import StandardScaler\n",
    "from sklearn.linear_model import LinearRegression\n",
    "from sklearn.metrics import mean_squared_error, make_scorer\n",
    "\n",
    "# Mute warnings\n",
    "warnings.filterwarnings('ignore')\n",
    "\n",
    "# Input data files are available in the read-only \"../input/\" directory\n",
    "# For example, running this (by clicking run or pressing Shift+Enter) will list all files under the input directory\n"
   ]
  },
  {
   "cell_type": "code",
   "execution_count": 6,
   "id": "66943caf",
   "metadata": {},
   "outputs": [],
   "source": []
  },
  {
   "cell_type": "code",
   "execution_count": 7,
   "id": "26203c8f",
   "metadata": {},
   "outputs": [],
   "source": [
    "data = pd.read_csv(\"train.csv\", index_col=\"Id\")"
   ]
  },
  {
   "cell_type": "code",
   "execution_count": 8,
   "id": "bbb60b8f",
   "metadata": {},
   "outputs": [
    {
     "data": {
      "text/html": [
       "<div>\n",
       "<style scoped>\n",
       "    .dataframe tbody tr th:only-of-type {\n",
       "        vertical-align: middle;\n",
       "    }\n",
       "\n",
       "    .dataframe tbody tr th {\n",
       "        vertical-align: top;\n",
       "    }\n",
       "\n",
       "    .dataframe thead th {\n",
       "        text-align: right;\n",
       "    }\n",
       "</style>\n",
       "<table border=\"1\" class=\"dataframe\">\n",
       "  <thead>\n",
       "    <tr style=\"text-align: right;\">\n",
       "      <th></th>\n",
       "      <th>MSSubClass</th>\n",
       "      <th>MSZoning</th>\n",
       "      <th>LotFrontage</th>\n",
       "      <th>LotArea</th>\n",
       "      <th>Street</th>\n",
       "      <th>Alley</th>\n",
       "      <th>LotShape</th>\n",
       "      <th>LandContour</th>\n",
       "      <th>Utilities</th>\n",
       "      <th>LotConfig</th>\n",
       "      <th>...</th>\n",
       "      <th>PoolArea</th>\n",
       "      <th>PoolQC</th>\n",
       "      <th>Fence</th>\n",
       "      <th>MiscFeature</th>\n",
       "      <th>MiscVal</th>\n",
       "      <th>MoSold</th>\n",
       "      <th>YrSold</th>\n",
       "      <th>SaleType</th>\n",
       "      <th>SaleCondition</th>\n",
       "      <th>SalePrice</th>\n",
       "    </tr>\n",
       "    <tr>\n",
       "      <th>Id</th>\n",
       "      <th></th>\n",
       "      <th></th>\n",
       "      <th></th>\n",
       "      <th></th>\n",
       "      <th></th>\n",
       "      <th></th>\n",
       "      <th></th>\n",
       "      <th></th>\n",
       "      <th></th>\n",
       "      <th></th>\n",
       "      <th></th>\n",
       "      <th></th>\n",
       "      <th></th>\n",
       "      <th></th>\n",
       "      <th></th>\n",
       "      <th></th>\n",
       "      <th></th>\n",
       "      <th></th>\n",
       "      <th></th>\n",
       "      <th></th>\n",
       "      <th></th>\n",
       "    </tr>\n",
       "  </thead>\n",
       "  <tbody>\n",
       "    <tr>\n",
       "      <th>1</th>\n",
       "      <td>60</td>\n",
       "      <td>RL</td>\n",
       "      <td>65.0</td>\n",
       "      <td>8450</td>\n",
       "      <td>Pave</td>\n",
       "      <td>NaN</td>\n",
       "      <td>Reg</td>\n",
       "      <td>Lvl</td>\n",
       "      <td>AllPub</td>\n",
       "      <td>Inside</td>\n",
       "      <td>...</td>\n",
       "      <td>0</td>\n",
       "      <td>NaN</td>\n",
       "      <td>NaN</td>\n",
       "      <td>NaN</td>\n",
       "      <td>0</td>\n",
       "      <td>2</td>\n",
       "      <td>2008</td>\n",
       "      <td>WD</td>\n",
       "      <td>Normal</td>\n",
       "      <td>208500</td>\n",
       "    </tr>\n",
       "    <tr>\n",
       "      <th>2</th>\n",
       "      <td>20</td>\n",
       "      <td>RL</td>\n",
       "      <td>80.0</td>\n",
       "      <td>9600</td>\n",
       "      <td>Pave</td>\n",
       "      <td>NaN</td>\n",
       "      <td>Reg</td>\n",
       "      <td>Lvl</td>\n",
       "      <td>AllPub</td>\n",
       "      <td>FR2</td>\n",
       "      <td>...</td>\n",
       "      <td>0</td>\n",
       "      <td>NaN</td>\n",
       "      <td>NaN</td>\n",
       "      <td>NaN</td>\n",
       "      <td>0</td>\n",
       "      <td>5</td>\n",
       "      <td>2007</td>\n",
       "      <td>WD</td>\n",
       "      <td>Normal</td>\n",
       "      <td>181500</td>\n",
       "    </tr>\n",
       "    <tr>\n",
       "      <th>3</th>\n",
       "      <td>60</td>\n",
       "      <td>RL</td>\n",
       "      <td>68.0</td>\n",
       "      <td>11250</td>\n",
       "      <td>Pave</td>\n",
       "      <td>NaN</td>\n",
       "      <td>IR1</td>\n",
       "      <td>Lvl</td>\n",
       "      <td>AllPub</td>\n",
       "      <td>Inside</td>\n",
       "      <td>...</td>\n",
       "      <td>0</td>\n",
       "      <td>NaN</td>\n",
       "      <td>NaN</td>\n",
       "      <td>NaN</td>\n",
       "      <td>0</td>\n",
       "      <td>9</td>\n",
       "      <td>2008</td>\n",
       "      <td>WD</td>\n",
       "      <td>Normal</td>\n",
       "      <td>223500</td>\n",
       "    </tr>\n",
       "    <tr>\n",
       "      <th>4</th>\n",
       "      <td>70</td>\n",
       "      <td>RL</td>\n",
       "      <td>60.0</td>\n",
       "      <td>9550</td>\n",
       "      <td>Pave</td>\n",
       "      <td>NaN</td>\n",
       "      <td>IR1</td>\n",
       "      <td>Lvl</td>\n",
       "      <td>AllPub</td>\n",
       "      <td>Corner</td>\n",
       "      <td>...</td>\n",
       "      <td>0</td>\n",
       "      <td>NaN</td>\n",
       "      <td>NaN</td>\n",
       "      <td>NaN</td>\n",
       "      <td>0</td>\n",
       "      <td>2</td>\n",
       "      <td>2006</td>\n",
       "      <td>WD</td>\n",
       "      <td>Abnorml</td>\n",
       "      <td>140000</td>\n",
       "    </tr>\n",
       "    <tr>\n",
       "      <th>5</th>\n",
       "      <td>60</td>\n",
       "      <td>RL</td>\n",
       "      <td>84.0</td>\n",
       "      <td>14260</td>\n",
       "      <td>Pave</td>\n",
       "      <td>NaN</td>\n",
       "      <td>IR1</td>\n",
       "      <td>Lvl</td>\n",
       "      <td>AllPub</td>\n",
       "      <td>FR2</td>\n",
       "      <td>...</td>\n",
       "      <td>0</td>\n",
       "      <td>NaN</td>\n",
       "      <td>NaN</td>\n",
       "      <td>NaN</td>\n",
       "      <td>0</td>\n",
       "      <td>12</td>\n",
       "      <td>2008</td>\n",
       "      <td>WD</td>\n",
       "      <td>Normal</td>\n",
       "      <td>250000</td>\n",
       "    </tr>\n",
       "    <tr>\n",
       "      <th>...</th>\n",
       "      <td>...</td>\n",
       "      <td>...</td>\n",
       "      <td>...</td>\n",
       "      <td>...</td>\n",
       "      <td>...</td>\n",
       "      <td>...</td>\n",
       "      <td>...</td>\n",
       "      <td>...</td>\n",
       "      <td>...</td>\n",
       "      <td>...</td>\n",
       "      <td>...</td>\n",
       "      <td>...</td>\n",
       "      <td>...</td>\n",
       "      <td>...</td>\n",
       "      <td>...</td>\n",
       "      <td>...</td>\n",
       "      <td>...</td>\n",
       "      <td>...</td>\n",
       "      <td>...</td>\n",
       "      <td>...</td>\n",
       "      <td>...</td>\n",
       "    </tr>\n",
       "    <tr>\n",
       "      <th>1456</th>\n",
       "      <td>60</td>\n",
       "      <td>RL</td>\n",
       "      <td>62.0</td>\n",
       "      <td>7917</td>\n",
       "      <td>Pave</td>\n",
       "      <td>NaN</td>\n",
       "      <td>Reg</td>\n",
       "      <td>Lvl</td>\n",
       "      <td>AllPub</td>\n",
       "      <td>Inside</td>\n",
       "      <td>...</td>\n",
       "      <td>0</td>\n",
       "      <td>NaN</td>\n",
       "      <td>NaN</td>\n",
       "      <td>NaN</td>\n",
       "      <td>0</td>\n",
       "      <td>8</td>\n",
       "      <td>2007</td>\n",
       "      <td>WD</td>\n",
       "      <td>Normal</td>\n",
       "      <td>175000</td>\n",
       "    </tr>\n",
       "    <tr>\n",
       "      <th>1457</th>\n",
       "      <td>20</td>\n",
       "      <td>RL</td>\n",
       "      <td>85.0</td>\n",
       "      <td>13175</td>\n",
       "      <td>Pave</td>\n",
       "      <td>NaN</td>\n",
       "      <td>Reg</td>\n",
       "      <td>Lvl</td>\n",
       "      <td>AllPub</td>\n",
       "      <td>Inside</td>\n",
       "      <td>...</td>\n",
       "      <td>0</td>\n",
       "      <td>NaN</td>\n",
       "      <td>MnPrv</td>\n",
       "      <td>NaN</td>\n",
       "      <td>0</td>\n",
       "      <td>2</td>\n",
       "      <td>2010</td>\n",
       "      <td>WD</td>\n",
       "      <td>Normal</td>\n",
       "      <td>210000</td>\n",
       "    </tr>\n",
       "    <tr>\n",
       "      <th>1458</th>\n",
       "      <td>70</td>\n",
       "      <td>RL</td>\n",
       "      <td>66.0</td>\n",
       "      <td>9042</td>\n",
       "      <td>Pave</td>\n",
       "      <td>NaN</td>\n",
       "      <td>Reg</td>\n",
       "      <td>Lvl</td>\n",
       "      <td>AllPub</td>\n",
       "      <td>Inside</td>\n",
       "      <td>...</td>\n",
       "      <td>0</td>\n",
       "      <td>NaN</td>\n",
       "      <td>GdPrv</td>\n",
       "      <td>Shed</td>\n",
       "      <td>2500</td>\n",
       "      <td>5</td>\n",
       "      <td>2010</td>\n",
       "      <td>WD</td>\n",
       "      <td>Normal</td>\n",
       "      <td>266500</td>\n",
       "    </tr>\n",
       "    <tr>\n",
       "      <th>1459</th>\n",
       "      <td>20</td>\n",
       "      <td>RL</td>\n",
       "      <td>68.0</td>\n",
       "      <td>9717</td>\n",
       "      <td>Pave</td>\n",
       "      <td>NaN</td>\n",
       "      <td>Reg</td>\n",
       "      <td>Lvl</td>\n",
       "      <td>AllPub</td>\n",
       "      <td>Inside</td>\n",
       "      <td>...</td>\n",
       "      <td>0</td>\n",
       "      <td>NaN</td>\n",
       "      <td>NaN</td>\n",
       "      <td>NaN</td>\n",
       "      <td>0</td>\n",
       "      <td>4</td>\n",
       "      <td>2010</td>\n",
       "      <td>WD</td>\n",
       "      <td>Normal</td>\n",
       "      <td>142125</td>\n",
       "    </tr>\n",
       "    <tr>\n",
       "      <th>1460</th>\n",
       "      <td>20</td>\n",
       "      <td>RL</td>\n",
       "      <td>75.0</td>\n",
       "      <td>9937</td>\n",
       "      <td>Pave</td>\n",
       "      <td>NaN</td>\n",
       "      <td>Reg</td>\n",
       "      <td>Lvl</td>\n",
       "      <td>AllPub</td>\n",
       "      <td>Inside</td>\n",
       "      <td>...</td>\n",
       "      <td>0</td>\n",
       "      <td>NaN</td>\n",
       "      <td>NaN</td>\n",
       "      <td>NaN</td>\n",
       "      <td>0</td>\n",
       "      <td>6</td>\n",
       "      <td>2008</td>\n",
       "      <td>WD</td>\n",
       "      <td>Normal</td>\n",
       "      <td>147500</td>\n",
       "    </tr>\n",
       "  </tbody>\n",
       "</table>\n",
       "<p>1460 rows × 80 columns</p>\n",
       "</div>"
      ],
      "text/plain": [
       "      MSSubClass MSZoning  LotFrontage  LotArea Street Alley LotShape  \\\n",
       "Id                                                                      \n",
       "1             60       RL         65.0     8450   Pave   NaN      Reg   \n",
       "2             20       RL         80.0     9600   Pave   NaN      Reg   \n",
       "3             60       RL         68.0    11250   Pave   NaN      IR1   \n",
       "4             70       RL         60.0     9550   Pave   NaN      IR1   \n",
       "5             60       RL         84.0    14260   Pave   NaN      IR1   \n",
       "...          ...      ...          ...      ...    ...   ...      ...   \n",
       "1456          60       RL         62.0     7917   Pave   NaN      Reg   \n",
       "1457          20       RL         85.0    13175   Pave   NaN      Reg   \n",
       "1458          70       RL         66.0     9042   Pave   NaN      Reg   \n",
       "1459          20       RL         68.0     9717   Pave   NaN      Reg   \n",
       "1460          20       RL         75.0     9937   Pave   NaN      Reg   \n",
       "\n",
       "     LandContour Utilities LotConfig  ... PoolArea PoolQC  Fence MiscFeature  \\\n",
       "Id                                    ...                                      \n",
       "1            Lvl    AllPub    Inside  ...        0    NaN    NaN         NaN   \n",
       "2            Lvl    AllPub       FR2  ...        0    NaN    NaN         NaN   \n",
       "3            Lvl    AllPub    Inside  ...        0    NaN    NaN         NaN   \n",
       "4            Lvl    AllPub    Corner  ...        0    NaN    NaN         NaN   \n",
       "5            Lvl    AllPub       FR2  ...        0    NaN    NaN         NaN   \n",
       "...          ...       ...       ...  ...      ...    ...    ...         ...   \n",
       "1456         Lvl    AllPub    Inside  ...        0    NaN    NaN         NaN   \n",
       "1457         Lvl    AllPub    Inside  ...        0    NaN  MnPrv         NaN   \n",
       "1458         Lvl    AllPub    Inside  ...        0    NaN  GdPrv        Shed   \n",
       "1459         Lvl    AllPub    Inside  ...        0    NaN    NaN         NaN   \n",
       "1460         Lvl    AllPub    Inside  ...        0    NaN    NaN         NaN   \n",
       "\n",
       "     MiscVal MoSold  YrSold  SaleType  SaleCondition  SalePrice  \n",
       "Id                                                               \n",
       "1          0      2    2008        WD         Normal     208500  \n",
       "2          0      5    2007        WD         Normal     181500  \n",
       "3          0      9    2008        WD         Normal     223500  \n",
       "4          0      2    2006        WD        Abnorml     140000  \n",
       "5          0     12    2008        WD         Normal     250000  \n",
       "...      ...    ...     ...       ...            ...        ...  \n",
       "1456       0      8    2007        WD         Normal     175000  \n",
       "1457       0      2    2010        WD         Normal     210000  \n",
       "1458    2500      5    2010        WD         Normal     266500  \n",
       "1459       0      4    2010        WD         Normal     142125  \n",
       "1460       0      6    2008        WD         Normal     147500  \n",
       "\n",
       "[1460 rows x 80 columns]"
      ]
     },
     "execution_count": 8,
     "metadata": {},
     "output_type": "execute_result"
    }
   ],
   "source": [
    "data"
   ]
  },
  {
   "cell_type": "code",
   "execution_count": null,
   "id": "495d6dfb",
   "metadata": {},
   "outputs": [],
   "source": []
  },
  {
   "cell_type": "code",
   "execution_count": 9,
   "id": "ce025fc3",
   "metadata": {},
   "outputs": [
    {
     "data": {
      "image/png": "[encoded data removed]",
      "text/plain": [
       "<Figure size 432x288 with 1 Axes>"
      ]
     },
     "metadata": {
      "needs_background": "light"
     },
     "output_type": "display_data"
    }
   ],
   "source": [
    "fig, ax = plt.subplots()\n",
    "ax.scatter(data['GrLivArea'], data['SalePrice'])\n",
    "plt.ylabel('SalePrice', fontsize=13)\n",
    "plt.xlabel('GrLivArea', fontsize=13)\n",
    "plt.show()"
   ]
  },
  {
   "cell_type": "code",
   "execution_count": 10,
   "id": "9eaa16c4",
   "metadata": {},
   "outputs": [
    {
     "data": {
      "image/png": "[encoded data removed]",
      "text/plain": [
       "<Figure size 432x288 with 1 Axes>"
      ]
     },
     "metadata": {
      "needs_background": "light"
     },
     "output_type": "display_data"
    }
   ],
   "source": [
    "data = data.drop(data[(data['GrLivArea']>4000) & (data['SalePrice']<300000)].index)\n",
    "\n",
    "fig, ax = plt.subplots()\n",
    "ax.scatter(data['GrLivArea'], data['SalePrice'])\n",
    "plt.ylabel('SalePrice', fontsize=13)\n",
    "plt.xlabel('GrLivArea', fontsize=13)\n",
    "plt.show()"
   ]
  },
  {
   "cell_type": "code",
   "execution_count": 11,
   "id": "3d97711b",
   "metadata": {},
   "outputs": [
    {
     "data": {
      "image/png": "[encoded data removed]",
      "text/plain": [
       "<Figure size 432x288 with 1 Axes>"
      ]
     },
     "metadata": {
      "needs_background": "light"
     },
     "output_type": "display_data"
    }
   ],
   "source": [
    "sns.distplot(data['SalePrice']);"
   ]
  },
  {
   "cell_type": "code",
   "execution_count": 12,
   "id": "c446d34d",
   "metadata": {},
   "outputs": [
    {
     "data": {
      "text/plain": [
       "<AxesSubplot:xlabel='SalePrice', ylabel='Density'>"
      ]
     },
     "execution_count": 12,
     "metadata": {},
     "output_type": "execute_result"
    },
    {
     "data": {
      "image/png": "[encoded data removed]",
      "text/plain": [
       "<Figure size 432x288 with 1 Axes>"
      ]
     },
     "metadata": {
      "needs_background": "light"
     },
     "output_type": "display_data"
    }
   ],
   "source": [
    "data['SalePrice'] = np.log1p(data['SalePrice'])\n",
    "sns.distplot(data['SalePrice'])"
   ]
  },
  {
   "cell_type": "code",
   "execution_count": 13,
   "id": "9dedd317",
   "metadata": {},
   "outputs": [],
   "source": [
    "target = data['SalePrice']\n",
    "data= data.drop(axis=1, columns='SalePrice')"
   ]
  },
  {
   "cell_type": "code",
   "execution_count": 14,
   "id": "dae7de65",
   "metadata": {},
   "outputs": [
    {
     "data": {
      "text/plain": [
       "(1458, 79)"
      ]
     },
     "execution_count": 14,
     "metadata": {},
     "output_type": "execute_result"
    }
   ],
   "source": [
    "data.shape"
   ]
  },
  {
   "cell_type": "code",
   "execution_count": 15,
   "id": "ba3ff2b7",
   "metadata": {},
   "outputs": [
    {
     "name": "stdout",
     "output_type": "stream",
     "text": [
      "# of Ordinal Categoricals: 13\n",
      "# of Nominal Categoricals: 30\n"
     ]
    }
   ],
   "source": [
    "ordinal = ['MSZoning', 'LotShape', 'ExterQual', 'ExterCond', 'BsmtQual', 'BsmtCond', 'BsmtExposure', 'HeatingQC', 'CentralAir',\n",
    "           'KitchenQual', 'GarageQual', 'GarageCond', 'PoolQC']\n",
    "\n",
    "print('# of Ordinal Categoricals: ' + str(len(ordinal)))\n",
    "\n",
    "\n",
    "nominal = [var for var in data.columns if data[var].dtype=='O' and var not in ordinal]\n",
    "\n",
    "print('# of Nominal Categoricals: ' + str(len(nominal)))"
   ]
  },
  {
   "cell_type": "code",
   "execution_count": 16,
   "id": "d45a8287",
   "metadata": {},
   "outputs": [
    {
     "name": "stdout",
     "output_type": "stream",
     "text": [
      "Street :  ['Pave' 'Grvl']\n",
      "Alley :  [nan 'Grvl' 'Pave']\n",
      "LandContour :  ['Lvl' 'Bnk' 'Low' 'HLS']\n",
      "Utilities :  ['AllPub' 'NoSeWa']\n",
      "LotConfig :  ['Inside' 'FR2' 'Corner' 'CulDSac' 'FR3']\n",
      "LandSlope :  ['Gtl' 'Mod' 'Sev']\n",
      "Neighborhood :  ['CollgCr' 'Veenker' 'Crawfor' 'NoRidge' 'Mitchel' 'Somerst' 'NWAmes'\n",
      " 'OldTown' 'BrkSide' 'Sawyer' 'NridgHt' 'NAmes' 'SawyerW' 'IDOTRR'\n",
      " 'MeadowV' 'Edwards' 'Timber' 'Gilbert' 'StoneBr' 'ClearCr' 'NPkVill'\n",
      " 'Blmngtn' 'BrDale' 'SWISU' 'Blueste']\n",
      "Condition1 :  ['Norm' 'Feedr' 'PosN' 'Artery' 'RRAe' 'RRNn' 'RRAn' 'PosA' 'RRNe']\n",
      "Condition2 :  ['Norm' 'Artery' 'RRNn' 'Feedr' 'PosA' 'PosN' 'RRAn' 'RRAe']\n",
      "BldgType :  ['1Fam' '2fmCon' 'Duplex' 'TwnhsE' 'Twnhs']\n",
      "HouseStyle :  ['2Story' '1Story' '1.5Fin' '1.5Unf' 'SFoyer' 'SLvl' '2.5Unf' '2.5Fin']\n",
      "RoofStyle :  ['Gable' 'Hip' 'Gambrel' 'Mansard' 'Flat' 'Shed']\n",
      "RoofMatl :  ['CompShg' 'WdShngl' 'Metal' 'WdShake' 'Membran' 'Tar&Grv' 'Roll']\n",
      "Exterior1st :  ['VinylSd' 'MetalSd' 'Wd Sdng' 'HdBoard' 'BrkFace' 'WdShing' 'CemntBd'\n",
      " 'Plywood' 'AsbShng' 'Stucco' 'BrkComm' 'AsphShn' 'Stone' 'ImStucc'\n",
      " 'CBlock']\n",
      "Exterior2nd :  ['VinylSd' 'MetalSd' 'Wd Shng' 'HdBoard' 'Plywood' 'Wd Sdng' 'CmentBd'\n",
      " 'BrkFace' 'Stucco' 'AsbShng' 'Brk Cmn' 'ImStucc' 'AsphShn' 'Stone'\n",
      " 'Other' 'CBlock']\n",
      "MasVnrType :  ['BrkFace' 'None' 'Stone' 'BrkCmn' nan]\n",
      "Foundation :  ['PConc' 'CBlock' 'BrkTil' 'Wood' 'Slab' 'Stone']\n",
      "BsmtFinType1 :  ['GLQ' 'ALQ' 'Unf' 'Rec' 'BLQ' nan 'LwQ']\n",
      "BsmtFinType2 :  ['Unf' 'BLQ' nan 'ALQ' 'Rec' 'LwQ' 'GLQ']\n",
      "Heating :  ['GasA' 'GasW' 'Grav' 'Wall' 'OthW' 'Floor']\n",
      "Electrical :  ['SBrkr' 'FuseF' 'FuseA' 'FuseP' 'Mix' nan]\n",
      "Functional :  ['Typ' 'Min1' 'Maj1' 'Min2' 'Mod' 'Maj2' 'Sev']\n",
      "FireplaceQu :  [nan 'TA' 'Gd' 'Fa' 'Ex' 'Po']\n",
      "GarageType :  ['Attchd' 'Detchd' 'BuiltIn' 'CarPort' nan 'Basment' '2Types']\n",
      "GarageFinish :  ['RFn' 'Unf' 'Fin' nan]\n",
      "PavedDrive :  ['Y' 'N' 'P']\n",
      "Fence :  [nan 'MnPrv' 'GdWo' 'GdPrv' 'MnWw']\n",
      "MiscFeature :  [nan 'Shed' 'Gar2' 'Othr' 'TenC']\n",
      "SaleType :  ['WD' 'New' 'COD' 'ConLD' 'ConLI' 'CWD' 'ConLw' 'Con' 'Oth']\n",
      "SaleCondition :  ['Normal' 'Abnorml' 'Partial' 'AdjLand' 'Alloca' 'Family']\n"
     ]
    }
   ],
   "source": [
    "for var in nominal:\n",
    "    print(var, ': ', data[var].unique())"
   ]
  },
  {
   "cell_type": "code",
   "execution_count": 17,
   "id": "eff3b94b",
   "metadata": {},
   "outputs": [
    {
     "data": {
      "text/plain": [
       "['YearBuilt', 'YearRemodAdd', 'GarageYrBlt', 'YrSold']"
      ]
     },
     "execution_count": 17,
     "metadata": {},
     "output_type": "execute_result"
    }
   ],
   "source": [
    "year_vars = [var for var in data.columns if 'Yr' in var or 'Year' in var]\n",
    "\n",
    "year_vars"
   ]
  },
  {
   "cell_type": "code",
   "execution_count": 18,
   "id": "be38b96d",
   "metadata": {},
   "outputs": [
    {
     "name": "stdout",
     "output_type": "stream",
     "text": [
      "# of discrete features:  13\n",
      "# of Continuous Features:  19\n"
     ]
    }
   ],
   "source": [
    "discrete = [var for var in data.columns if data[var].dtype != 'O'\n",
    "            # the largest discrete feature 'MSSubClass' has 16 variables\n",
    "            and len(data[var].unique()) < 17\n",
    "            and var not in year_vars\n",
    "            # 'PoolArea' is not discrete, it just has a small # of values\n",
    "            and var not in ['PoolArea']\n",
    "            ]\n",
    "\n",
    "print('# of discrete features: ', len(discrete))\n",
    "\n",
    "\n",
    "numerical = [var for var in data.columns if data[var].dtype != 'O'\n",
    "             and var not in discrete\n",
    "             and var not in year_vars\n",
    "             and var not in ['Id', 'SalePrice']\n",
    "            ]\n",
    "\n",
    "print('# of Continuous Features: ', len(numerical))"
   ]
  },
  {
   "cell_type": "code",
   "execution_count": 19,
   "id": "c7b58cdb",
   "metadata": {},
   "outputs": [
    {
     "name": "stdout",
     "output_type": "stream",
     "text": [
      "Missing Ordinal Categorical Features: \n",
      "BsmtQual :  0.025377229080932786\n",
      "BsmtCond :  0.025377229080932786\n",
      "BsmtExposure :  0.02606310013717421\n",
      "GarageQual :  0.05555555555555555\n",
      "GarageCond :  0.05555555555555555\n",
      "PoolQC :  0.9958847736625515\n",
      "\n",
      "Missing Nominal Categorical Features: \n",
      "Alley :  0.9375857338820301\n",
      "MasVnrType :  0.0054869684499314125\n",
      "BsmtFinType1 :  0.025377229080932786\n",
      "BsmtFinType2 :  0.02606310013717421\n",
      "Electrical :  0.0006858710562414266\n",
      "FireplaceQu :  0.4732510288065844\n",
      "GarageType :  0.05555555555555555\n",
      "GarageFinish :  0.05555555555555555\n",
      "Fence :  0.8072702331961591\n",
      "MiscFeature :  0.9629629629629629\n",
      "\n",
      "Missing Discrete Features: \n",
      "\n",
      "Missing Numerical Features: \n",
      "LotFrontage :  0.1776406035665295\n",
      "MasVnrArea :  0.0054869684499314125\n",
      "\n",
      "Missing year_vars Features: \n",
      "GarageYrBlt :  0.05555555555555555\n"
     ]
    }
   ],
   "source": [
    "def missing_var(x):\n",
    "    for var in x:\n",
    "        if data[var].isnull().sum() > 0:\n",
    "            print(var, ': ', data[var].isnull().mean())\n",
    "\n",
    "\n",
    "print('Missing Ordinal Categorical Features: ')\n",
    "missing_var(ordinal)\n",
    "print()\n",
    "            \n",
    "print('Missing Nominal Categorical Features: ')\n",
    "missing_var(nominal)\n",
    "print()\n",
    "\n",
    "print('Missing Discrete Features: ')\n",
    "missing_var(discrete)\n",
    "print()\n",
    "\n",
    "print('Missing Numerical Features: ')\n",
    "missing_var(numerical)\n",
    "print()\n",
    "\n",
    "print('Missing year_vars Features: ')\n",
    "missing_var(year_vars)"
   ]
  },
  {
   "cell_type": "code",
   "execution_count": 20,
   "id": "de8a7eb6",
   "metadata": {},
   "outputs": [],
   "source": [
    "overFivePerc_cat = ['Alley', 'FireplaceQu', 'PoolQC', 'Fence', 'MiscFeature']\n",
    "\n",
    "# Numerical Features missing more than 5% of its values\n",
    "overFivePerc_num = ['LotFrontage']\n",
    "\n",
    "    \n",
    "##### May need to switch Xtrain mode, median with the whole datasets median, Ill see as i go\n",
    "\n",
    "    \n",
    "def impute_missing_vars(df):\n",
    "    # Converting all the categorical features with less than 5% of its data missing into the\n",
    "    # most frequent value\n",
    "    for var in df[ordinal]:\n",
    "        df[var] = df[var].fillna(data[var].mode()[0])\n",
    "        \n",
    "    for var in df[nominal]:\n",
    "        df[var] = df[var].fillna(data[var].mode()[0])\n",
    "\n",
    "    \n",
    "    # Converting all the missing categorical features above 5% into a new value 'None'\n",
    "    for var in df[overFivePerc_cat]:\n",
    "        df[var] = df[var].fillna('None')\n",
    "\n",
    "    \n",
    "    # Converting all the discrete/numerical features with less than 5% of its data missing into\n",
    "    # the median value, assuming most are skewed\n",
    "    for var in df[discrete]:\n",
    "        df[var] = df[var].fillna(data[var].median())\n",
    "    \n",
    "    for var in df[numerical]:\n",
    "        df[var] = df[var].fillna(data[var].median())\n",
    "\n",
    "    \n",
    "    # Converting all the missing numerical features over 5% to 0, representing none\n",
    "    for var in df[overFivePerc_num]:\n",
    "        df[var] = df[var].fillna(0)\n",
    "\n",
    "    # Finally for the missing year_vars im just going to replace them with the median\n",
    "    for var in df[year_vars]:\n",
    "        df[var] = df[var].fillna(data[var].median())\n",
    "    \n",
    "\n",
    "    \n",
    "impute_missing_vars(data)"
   ]
  },
  {
   "cell_type": "code",
   "execution_count": 21,
   "id": "831f547a",
   "metadata": {},
   "outputs": [
    {
     "name": "stdout",
     "output_type": "stream",
     "text": [
      "# of missing data values : MSSubClass       0\n",
      "MSZoning         0\n",
      "LotFrontage      0\n",
      "LotArea          0\n",
      "Street           0\n",
      "                ..\n",
      "MiscVal          0\n",
      "MoSold           0\n",
      "YrSold           0\n",
      "SaleType         0\n",
      "SaleCondition    0\n",
      "Length: 79, dtype: int64\n"
     ]
    }
   ],
   "source": [
    "print(\"# of missing data values : {}\".format(data.isna().sum()))"
   ]
  },
  {
   "cell_type": "code",
   "execution_count": 22,
   "id": "c23c9e1e",
   "metadata": {},
   "outputs": [],
   "source": [
    "def elapsed_years(df, var):\n",
    "    # capture difference between year variable and\n",
    "    # year the house was sold\n",
    "    df[var] = df['YrSold'] - df[var]\n",
    "    return df\n",
    "\n",
    "for var in ['YearBuilt', 'YearRemodAdd', 'GarageYrBlt']:\n",
    "    data = elapsed_years(data, var)"
   ]
  },
  {
   "cell_type": "code",
   "execution_count": 23,
   "id": "6c6a10fe",
   "metadata": {},
   "outputs": [],
   "source": [
    "data.drop('YrSold', axis=1, inplace=True)\n",
    "year_vars.remove('YrSold')"
   ]
  },
  {
   "cell_type": "code",
   "execution_count": 24,
   "id": "24537a89",
   "metadata": {},
   "outputs": [
    {
     "data": {
      "text/html": [
       "<div>\n",
       "<style scoped>\n",
       "    .dataframe tbody tr th:only-of-type {\n",
       "        vertical-align: middle;\n",
       "    }\n",
       "\n",
       "    .dataframe tbody tr th {\n",
       "        vertical-align: top;\n",
       "    }\n",
       "\n",
       "    .dataframe thead th {\n",
       "        text-align: right;\n",
       "    }\n",
       "</style>\n",
       "<table border=\"1\" class=\"dataframe\">\n",
       "  <thead>\n",
       "    <tr style=\"text-align: right;\">\n",
       "      <th></th>\n",
       "      <th>YearBuilt</th>\n",
       "      <th>YearRemodAdd</th>\n",
       "      <th>GarageYrBlt</th>\n",
       "    </tr>\n",
       "    <tr>\n",
       "      <th>Id</th>\n",
       "      <th></th>\n",
       "      <th></th>\n",
       "      <th></th>\n",
       "    </tr>\n",
       "  </thead>\n",
       "  <tbody>\n",
       "    <tr>\n",
       "      <th>1</th>\n",
       "      <td>5</td>\n",
       "      <td>5</td>\n",
       "      <td>5.0</td>\n",
       "    </tr>\n",
       "    <tr>\n",
       "      <th>2</th>\n",
       "      <td>31</td>\n",
       "      <td>31</td>\n",
       "      <td>31.0</td>\n",
       "    </tr>\n",
       "    <tr>\n",
       "      <th>3</th>\n",
       "      <td>7</td>\n",
       "      <td>6</td>\n",
       "      <td>7.0</td>\n",
       "    </tr>\n",
       "    <tr>\n",
       "      <th>4</th>\n",
       "      <td>91</td>\n",
       "      <td>36</td>\n",
       "      <td>8.0</td>\n",
       "    </tr>\n",
       "    <tr>\n",
       "      <th>5</th>\n",
       "      <td>8</td>\n",
       "      <td>8</td>\n",
       "      <td>8.0</td>\n",
       "    </tr>\n",
       "  </tbody>\n",
       "</table>\n",
       "</div>"
      ],
      "text/plain": [
       "    YearBuilt  YearRemodAdd  GarageYrBlt\n",
       "Id                                      \n",
       "1           5             5          5.0\n",
       "2          31            31         31.0\n",
       "3           7             6          7.0\n",
       "4          91            36          8.0\n",
       "5           8             8          8.0"
      ]
     },
     "execution_count": 24,
     "metadata": {},
     "output_type": "execute_result"
    }
   ],
   "source": [
    "data[year_vars].head()"
   ]
  },
  {
   "cell_type": "code",
   "execution_count": 25,
   "id": "01a64ac1",
   "metadata": {},
   "outputs": [
    {
     "data": {
      "image/png": "[encoded data removed]",
      "text/plain": [
       "<Figure size 288x144 with 1 Axes>"
      ]
     },
     "metadata": {
      "needs_background": "light"
     },
     "output_type": "display_data"
    },
    {
     "data": {
      "image/png": "[encoded data removed]",
      "text/plain": [
       "<Figure size 288x144 with 1 Axes>"
      ]
     },
     "metadata": {
      "needs_background": "light"
     },
     "output_type": "display_data"
    },
    {
     "data": {
      "image/png": "[encoded data removed]",
      "text/plain": [
       "<Figure size 288x144 with 1 Axes>"
      ]
     },
     "metadata": {
      "needs_background": "light"
     },
     "output_type": "display_data"
    },
    {
     "data": {
      "image/png": "[encoded data removed]",
      "text/plain": [
       "<Figure size 288x144 with 1 Axes>"
      ]
     },
     "metadata": {
      "needs_background": "light"
     },
     "output_type": "display_data"
    },
    {
     "data": {
      "image/png": "[encoded data removed]",
      "text/plain": [
       "<Figure size 288x144 with 1 Axes>"
      ]
     },
     "metadata": {
      "needs_background": "light"
     },
     "output_type": "display_data"
    },
    {
     "data": {
      "image/png": "[encoded data removed]",
      "text/plain": [
       "<Figure size 288x144 with 1 Axes>"
      ]
     },
     "metadata": {
      "needs_background": "light"
     },
     "output_type": "display_data"
    },
    {
     "data": {
      "image/png": "[encoded data removed]",
      "text/plain": [
       "<Figure size 288x144 with 1 Axes>"
      ]
     },
     "metadata": {
      "needs_background": "light"
     },
     "output_type": "display_data"
    },
    {
     "data": {
      "image/png": "[encoded data removed]",
      "text/plain": [
       "<Figure size 288x144 with 1 Axes>"
      ]
     },
     "metadata": {
      "needs_background": "light"
     },
     "output_type": "display_data"
    },
    {
     "data": {
      "image/png": "[encoded data removed]",
      "text/plain": [
       "<Figure size 288x144 with 1 Axes>"
      ]
     },
     "metadata": {
      "needs_background": "light"
     },
     "output_type": "display_data"
    },
    {
     "data": {
      "image/png": "[encoded data removed]",
      "text/plain": [
       "<Figure size 288x144 with 1 Axes>"
      ]
     },
     "metadata": {
      "needs_background": "light"
     },
     "output_type": "display_data"
    },
    {
     "data": {
      "image/png": "[encoded data removed]",
      "text/plain": [
       "<Figure size 288x144 with 1 Axes>"
      ]
     },
     "metadata": {
      "needs_background": "light"
     },
     "output_type": "display_data"
    },
    {
     "data": {
      "image/png": "[encoded data removed]",
      "text/plain": [
       "<Figure size 288x144 with 1 Axes>"
      ]
     },
     "metadata": {
      "needs_background": "light"
     },
     "output_type": "display_data"
    },
    {
     "data": {
      "image/png": "[encoded data removed]",
      "text/plain": [
       "<Figure size 288x144 with 1 Axes>"
      ]
     },
     "metadata": {
      "needs_background": "light"
     },
     "output_type": "display_data"
    },
    {
     "data": {
      "image/png": "[encoded data removed]",
      "text/plain": [
       "<Figure size 288x144 with 1 Axes>"
      ]
     },
     "metadata": {
      "needs_background": "light"
     },
     "output_type": "display_data"
    },
    {
     "data": {
      "image/png": "[encoded data removed]",
      "text/plain": [
       "<Figure size 288x144 with 1 Axes>"
      ]
     },
     "metadata": {
      "needs_background": "light"
     },
     "output_type": "display_data"
    },
    {
     "data": {
      "image/png": "[encoded data removed]",
      "text/plain": [
       "<Figure size 288x144 with 1 Axes>"
      ]
     },
     "metadata": {
      "needs_background": "light"
     },
     "output_type": "display_data"
    },
    {
     "data": {
      "image/png": "[encoded data removed]",
      "text/plain": [
       "<Figure size 288x144 with 1 Axes>"
      ]
     },
     "metadata": {
      "needs_background": "light"
     },
     "output_type": "display_data"
    },
    {
     "data": {
      "image/png": "[encoded data removed]",
      "text/plain": [
       "<Figure size 288x144 with 1 Axes>"
      ]
     },
     "metadata": {
      "needs_background": "light"
     },
     "output_type": "display_data"
    },
    {
     "data": {
      "image/png": "[encoded data removed]",
      "text/plain": [
       "<Figure size 288x144 with 1 Axes>"
      ]
     },
     "metadata": {
      "needs_background": "light"
     },
     "output_type": "display_data"
    }
   ],
   "source": [
    "for var in numerical:\n",
    "    plt.figure(figsize=(4,2))\n",
    "    fig = data[var].hist(bins=60)\n",
    "    fig.set_ylabel('number of houses')\n",
    "    fig.set_xlabel(var)"
   ]
  },
  {
   "cell_type": "code",
   "execution_count": 26,
   "id": "9fa8ecf4",
   "metadata": {},
   "outputs": [],
   "source": [
    "numToLog = ['LotFrontage','TotalBsmtSF', '1stFlrSF', 'GrLivArea', 'GarageArea']\n",
    "\n",
    "def logTransform(df, col):\n",
    "    for col in df[numToLog]:\n",
    "        df[col] = np.log1p(df[col])\n",
    "\n",
    "logTransform(data, numToLog)"
   ]
  },
  {
   "cell_type": "code",
   "execution_count": 27,
   "id": "61448519",
   "metadata": {},
   "outputs": [
    {
     "data": {
      "text/html": [
       "<div>\n",
       "<style scoped>\n",
       "    .dataframe tbody tr th:only-of-type {\n",
       "        vertical-align: middle;\n",
       "    }\n",
       "\n",
       "    .dataframe tbody tr th {\n",
       "        vertical-align: top;\n",
       "    }\n",
       "\n",
       "    .dataframe thead th {\n",
       "        text-align: right;\n",
       "    }\n",
       "</style>\n",
       "<table border=\"1\" class=\"dataframe\">\n",
       "  <thead>\n",
       "    <tr style=\"text-align: right;\">\n",
       "      <th></th>\n",
       "      <th>LotFrontage</th>\n",
       "      <th>TotalBsmtSF</th>\n",
       "      <th>1stFlrSF</th>\n",
       "      <th>GrLivArea</th>\n",
       "      <th>GarageArea</th>\n",
       "    </tr>\n",
       "    <tr>\n",
       "      <th>Id</th>\n",
       "      <th></th>\n",
       "      <th></th>\n",
       "      <th></th>\n",
       "      <th></th>\n",
       "      <th></th>\n",
       "    </tr>\n",
       "  </thead>\n",
       "  <tbody>\n",
       "    <tr>\n",
       "      <th>1</th>\n",
       "      <td>4.189655</td>\n",
       "      <td>6.753438</td>\n",
       "      <td>6.753438</td>\n",
       "      <td>7.444833</td>\n",
       "      <td>6.308098</td>\n",
       "    </tr>\n",
       "    <tr>\n",
       "      <th>2</th>\n",
       "      <td>4.394449</td>\n",
       "      <td>7.141245</td>\n",
       "      <td>7.141245</td>\n",
       "      <td>7.141245</td>\n",
       "      <td>6.133398</td>\n",
       "    </tr>\n",
       "    <tr>\n",
       "      <th>3</th>\n",
       "      <td>4.234107</td>\n",
       "      <td>6.825460</td>\n",
       "      <td>6.825460</td>\n",
       "      <td>7.488294</td>\n",
       "      <td>6.411818</td>\n",
       "    </tr>\n",
       "    <tr>\n",
       "      <th>4</th>\n",
       "      <td>4.110874</td>\n",
       "      <td>6.629363</td>\n",
       "      <td>6.869014</td>\n",
       "      <td>7.448916</td>\n",
       "      <td>6.466145</td>\n",
       "    </tr>\n",
       "    <tr>\n",
       "      <th>5</th>\n",
       "      <td>4.442651</td>\n",
       "      <td>7.044033</td>\n",
       "      <td>7.044033</td>\n",
       "      <td>7.695758</td>\n",
       "      <td>6.729824</td>\n",
       "    </tr>\n",
       "    <tr>\n",
       "      <th>...</th>\n",
       "      <td>...</td>\n",
       "      <td>...</td>\n",
       "      <td>...</td>\n",
       "      <td>...</td>\n",
       "      <td>...</td>\n",
       "    </tr>\n",
       "    <tr>\n",
       "      <th>1456</th>\n",
       "      <td>4.143135</td>\n",
       "      <td>6.860664</td>\n",
       "      <td>6.860664</td>\n",
       "      <td>7.407318</td>\n",
       "      <td>6.133398</td>\n",
       "    </tr>\n",
       "    <tr>\n",
       "      <th>1457</th>\n",
       "      <td>4.454347</td>\n",
       "      <td>7.341484</td>\n",
       "      <td>7.637234</td>\n",
       "      <td>7.637234</td>\n",
       "      <td>6.216606</td>\n",
       "    </tr>\n",
       "    <tr>\n",
       "      <th>1458</th>\n",
       "      <td>4.204693</td>\n",
       "      <td>7.050123</td>\n",
       "      <td>7.080868</td>\n",
       "      <td>7.758333</td>\n",
       "      <td>5.533389</td>\n",
       "    </tr>\n",
       "    <tr>\n",
       "      <th>1459</th>\n",
       "      <td>4.234107</td>\n",
       "      <td>6.983790</td>\n",
       "      <td>6.983790</td>\n",
       "      <td>6.983790</td>\n",
       "      <td>5.484797</td>\n",
       "    </tr>\n",
       "    <tr>\n",
       "      <th>1460</th>\n",
       "      <td>4.330733</td>\n",
       "      <td>7.136483</td>\n",
       "      <td>7.136483</td>\n",
       "      <td>7.136483</td>\n",
       "      <td>5.624018</td>\n",
       "    </tr>\n",
       "  </tbody>\n",
       "</table>\n",
       "<p>1458 rows × 5 columns</p>\n",
       "</div>"
      ],
      "text/plain": [
       "      LotFrontage  TotalBsmtSF  1stFlrSF  GrLivArea  GarageArea\n",
       "Id                                                             \n",
       "1        4.189655     6.753438  6.753438   7.444833    6.308098\n",
       "2        4.394449     7.141245  7.141245   7.141245    6.133398\n",
       "3        4.234107     6.825460  6.825460   7.488294    6.411818\n",
       "4        4.110874     6.629363  6.869014   7.448916    6.466145\n",
       "5        4.442651     7.044033  7.044033   7.695758    6.729824\n",
       "...           ...          ...       ...        ...         ...\n",
       "1456     4.143135     6.860664  6.860664   7.407318    6.133398\n",
       "1457     4.454347     7.341484  7.637234   7.637234    6.216606\n",
       "1458     4.204693     7.050123  7.080868   7.758333    5.533389\n",
       "1459     4.234107     6.983790  6.983790   6.983790    5.484797\n",
       "1460     4.330733     7.136483  7.136483   7.136483    5.624018\n",
       "\n",
       "[1458 rows x 5 columns]"
      ]
     },
     "execution_count": 27,
     "metadata": {},
     "output_type": "execute_result"
    }
   ],
   "source": [
    "data[numToLog]"
   ]
  },
  {
   "cell_type": "code",
   "execution_count": 28,
   "id": "f305317c",
   "metadata": {},
   "outputs": [],
   "source": [
    "# I would use Equal Frequency Discretization as it would normalize the data and be better for linear models, \n",
    "# but there are to many zeros in some of the variables,\n",
    "# so im just going to use Equal Width Discretization instead\n",
    "\n",
    "\n",
    "# numerical features to discretize\n",
    "vars_to_discret = [var for var in numerical if var not in numToLog]\n",
    "\n",
    "\n",
    "#equal width\n",
    "def discretize(df, list):\n",
    "    for col in list:\n",
    "        \n",
    "        # need to find the number of bins to split each variable into\n",
    "        \n",
    "        \n",
    "        # getting the range of each variable\n",
    "        ageRange = df[col].max() - df[col].min()\n",
    "        \n",
    "        # grabbing the floored min and max of each variable\n",
    "        minValue = int(np.floor( df[col].min()))\n",
    "        maxValue = int(np.ceil( df[col].max()))\n",
    "\n",
    "        # rounding the bin width\n",
    "        interValue = int(np.round(ageRange / 8))\n",
    "        \n",
    "        # finding the amount of bins for each variable\n",
    "        nBins = [i for i in range(minValue, maxValue + interValue, interValue)]\n",
    "        \n",
    "        # creating labels\n",
    "        labels = ['Bin_' + str(i) for i in range(1, len(nBins))]\n",
    "        \n",
    "        # cutting each variable into bins\n",
    "        df[col] = pd.cut(x=df[col], bins=nBins, labels=labels, include_lowest=True)\n",
    "\n",
    "        \n",
    "discretize(data, vars_to_discret)"
   ]
  },
  {
   "cell_type": "code",
   "execution_count": 29,
   "id": "54d7e08f",
   "metadata": {},
   "outputs": [
    {
     "data": {
      "image/png": "[encoded data removed]",
      "text/plain": [
       "<Figure size 288x144 with 1 Axes>"
      ]
     },
     "metadata": {
      "needs_background": "light"
     },
     "output_type": "display_data"
    },
    {
     "data": {
      "image/png": "[encoded data removed]",
      "text/plain": [
       "<Figure size 288x144 with 1 Axes>"
      ]
     },
     "metadata": {
      "needs_background": "light"
     },
     "output_type": "display_data"
    },
    {
     "data": {
      "image/png": "[encoded data removed]",
      "text/plain": [
       "<Figure size 288x144 with 1 Axes>"
      ]
     },
     "metadata": {
      "needs_background": "light"
     },
     "output_type": "display_data"
    },
    {
     "data": {
      "image/png": "[encoded data removed]",
      "text/plain": [
       "<Figure size 288x144 with 1 Axes>"
      ]
     },
     "metadata": {
      "needs_background": "light"
     },
     "output_type": "display_data"
    },
    {
     "data": {
      "image/png": "[encoded data removed]",
      "text/plain": [
       "<Figure size 288x144 with 1 Axes>"
      ]
     },
     "metadata": {
      "needs_background": "light"
     },
     "output_type": "display_data"
    },
    {
     "data": {
      "image/png": "[encoded data removed]",
      "text/plain": [
       "<Figure size 288x144 with 1 Axes>"
      ]
     },
     "metadata": {
      "needs_background": "light"
     },
     "output_type": "display_data"
    },
    {
     "data": {
      "image/png": "[encoded data removed]",
      "text/plain": [
       "<Figure size 288x144 with 1 Axes>"
      ]
     },
     "metadata": {
      "needs_background": "light"
     },
     "output_type": "display_data"
    },
    {
     "data": {
      "image/png": "[encoded data removed]",
      "text/plain": [
       "<Figure size 288x144 with 1 Axes>"
      ]
     },
     "metadata": {
      "needs_background": "light"
     },
     "output_type": "display_data"
    },
    {
     "data": {
      "image/png": "[encoded data removed]",
      "text/plain": [
       "<Figure size 288x144 with 1 Axes>"
      ]
     },
     "metadata": {
      "needs_background": "light"
     },
     "output_type": "display_data"
    },
    {
     "data": {
      "image/png": "[encoded data removed]",
      "text/plain": [
       "<Figure size 288x144 with 1 Axes>"
      ]
     },
     "metadata": {
      "needs_background": "light"
     },
     "output_type": "display_data"
    },
    {
     "data": {
      "image/png": "[encoded data removed]",
      "text/plain": [
       "<Figure size 288x144 with 1 Axes>"
      ]
     },
     "metadata": {
      "needs_background": "light"
     },
     "output_type": "display_data"
    },
    {
     "data": {
      "image/png": "[encoded data removed]",
      "text/plain": [
       "<Figure size 288x144 with 1 Axes>"
      ]
     },
     "metadata": {
      "needs_background": "light"
     },
     "output_type": "display_data"
    },
    {
     "data": {
      "image/png": "[encoded data removed]",
      "text/plain": [
       "<Figure size 288x144 with 1 Axes>"
      ]
     },
     "metadata": {
      "needs_background": "light"
     },
     "output_type": "display_data"
    },
    {
     "data": {
      "image/png": "[encoded data removed]",
      "text/plain": [
       "<Figure size 288x144 with 1 Axes>"
      ]
     },
     "metadata": {
      "needs_background": "light"
     },
     "output_type": "display_data"
    }
   ],
   "source": [
    "for var in vars_to_discret:\n",
    "    plt.figure(figsize=(4,2))\n",
    "    fig = data[var].hist(bins=60)\n",
    "    fig.set_ylabel('number of houses')\n",
    "    fig.set_xlabel(var)"
   ]
  },
  {
   "cell_type": "code",
   "execution_count": 30,
   "id": "7afa671d",
   "metadata": {},
   "outputs": [
    {
     "data": {
      "text/html": [
       "<div>\n",
       "<style scoped>\n",
       "    .dataframe tbody tr th:only-of-type {\n",
       "        vertical-align: middle;\n",
       "    }\n",
       "\n",
       "    .dataframe tbody tr th {\n",
       "        vertical-align: top;\n",
       "    }\n",
       "\n",
       "    .dataframe thead th {\n",
       "        text-align: right;\n",
       "    }\n",
       "</style>\n",
       "<table border=\"1\" class=\"dataframe\">\n",
       "  <thead>\n",
       "    <tr style=\"text-align: right;\">\n",
       "      <th></th>\n",
       "      <th>LotArea</th>\n",
       "      <th>MasVnrArea</th>\n",
       "      <th>BsmtFinSF1</th>\n",
       "      <th>BsmtFinSF2</th>\n",
       "      <th>BsmtUnfSF</th>\n",
       "      <th>2ndFlrSF</th>\n",
       "      <th>LowQualFinSF</th>\n",
       "      <th>WoodDeckSF</th>\n",
       "      <th>OpenPorchSF</th>\n",
       "      <th>EnclosedPorch</th>\n",
       "      <th>3SsnPorch</th>\n",
       "      <th>ScreenPorch</th>\n",
       "      <th>PoolArea</th>\n",
       "      <th>MiscVal</th>\n",
       "    </tr>\n",
       "    <tr>\n",
       "      <th>Id</th>\n",
       "      <th></th>\n",
       "      <th></th>\n",
       "      <th></th>\n",
       "      <th></th>\n",
       "      <th></th>\n",
       "      <th></th>\n",
       "      <th></th>\n",
       "      <th></th>\n",
       "      <th></th>\n",
       "      <th></th>\n",
       "      <th></th>\n",
       "      <th></th>\n",
       "      <th></th>\n",
       "      <th></th>\n",
       "    </tr>\n",
       "  </thead>\n",
       "  <tbody>\n",
       "    <tr>\n",
       "      <th>1</th>\n",
       "      <td>Bin_1</td>\n",
       "      <td>Bin_1</td>\n",
       "      <td>Bin_3</td>\n",
       "      <td>Bin_1</td>\n",
       "      <td>Bin_1</td>\n",
       "      <td>Bin_4</td>\n",
       "      <td>Bin_1</td>\n",
       "      <td>Bin_1</td>\n",
       "      <td>Bin_1</td>\n",
       "      <td>Bin_1</td>\n",
       "      <td>Bin_1</td>\n",
       "      <td>Bin_1</td>\n",
       "      <td>Bin_1</td>\n",
       "      <td>Bin_1</td>\n",
       "    </tr>\n",
       "    <tr>\n",
       "      <th>2</th>\n",
       "      <td>Bin_1</td>\n",
       "      <td>Bin_1</td>\n",
       "      <td>Bin_4</td>\n",
       "      <td>Bin_1</td>\n",
       "      <td>Bin_1</td>\n",
       "      <td>Bin_1</td>\n",
       "      <td>Bin_1</td>\n",
       "      <td>Bin_3</td>\n",
       "      <td>Bin_1</td>\n",
       "      <td>Bin_1</td>\n",
       "      <td>Bin_1</td>\n",
       "      <td>Bin_1</td>\n",
       "      <td>Bin_1</td>\n",
       "      <td>Bin_1</td>\n",
       "    </tr>\n",
       "    <tr>\n",
       "      <th>3</th>\n",
       "      <td>Bin_1</td>\n",
       "      <td>Bin_1</td>\n",
       "      <td>Bin_2</td>\n",
       "      <td>Bin_1</td>\n",
       "      <td>Bin_2</td>\n",
       "      <td>Bin_4</td>\n",
       "      <td>Bin_1</td>\n",
       "      <td>Bin_1</td>\n",
       "      <td>Bin_1</td>\n",
       "      <td>Bin_1</td>\n",
       "      <td>Bin_1</td>\n",
       "      <td>Bin_1</td>\n",
       "      <td>Bin_1</td>\n",
       "      <td>Bin_1</td>\n",
       "    </tr>\n",
       "    <tr>\n",
       "      <th>4</th>\n",
       "      <td>Bin_1</td>\n",
       "      <td>Bin_1</td>\n",
       "      <td>Bin_1</td>\n",
       "      <td>Bin_1</td>\n",
       "      <td>Bin_2</td>\n",
       "      <td>Bin_3</td>\n",
       "      <td>Bin_1</td>\n",
       "      <td>Bin_1</td>\n",
       "      <td>Bin_1</td>\n",
       "      <td>Bin_4</td>\n",
       "      <td>Bin_1</td>\n",
       "      <td>Bin_1</td>\n",
       "      <td>Bin_1</td>\n",
       "      <td>Bin_1</td>\n",
       "    </tr>\n",
       "    <tr>\n",
       "      <th>5</th>\n",
       "      <td>Bin_1</td>\n",
       "      <td>Bin_2</td>\n",
       "      <td>Bin_3</td>\n",
       "      <td>Bin_1</td>\n",
       "      <td>Bin_2</td>\n",
       "      <td>Bin_5</td>\n",
       "      <td>Bin_1</td>\n",
       "      <td>Bin_2</td>\n",
       "      <td>Bin_2</td>\n",
       "      <td>Bin_1</td>\n",
       "      <td>Bin_1</td>\n",
       "      <td>Bin_1</td>\n",
       "      <td>Bin_1</td>\n",
       "      <td>Bin_1</td>\n",
       "    </tr>\n",
       "    <tr>\n",
       "      <th>...</th>\n",
       "      <td>...</td>\n",
       "      <td>...</td>\n",
       "      <td>...</td>\n",
       "      <td>...</td>\n",
       "      <td>...</td>\n",
       "      <td>...</td>\n",
       "      <td>...</td>\n",
       "      <td>...</td>\n",
       "      <td>...</td>\n",
       "      <td>...</td>\n",
       "      <td>...</td>\n",
       "      <td>...</td>\n",
       "      <td>...</td>\n",
       "      <td>...</td>\n",
       "    </tr>\n",
       "    <tr>\n",
       "      <th>1456</th>\n",
       "      <td>Bin_1</td>\n",
       "      <td>Bin_1</td>\n",
       "      <td>Bin_1</td>\n",
       "      <td>Bin_1</td>\n",
       "      <td>Bin_4</td>\n",
       "      <td>Bin_3</td>\n",
       "      <td>Bin_1</td>\n",
       "      <td>Bin_1</td>\n",
       "      <td>Bin_1</td>\n",
       "      <td>Bin_1</td>\n",
       "      <td>Bin_1</td>\n",
       "      <td>Bin_1</td>\n",
       "      <td>Bin_1</td>\n",
       "      <td>Bin_1</td>\n",
       "    </tr>\n",
       "    <tr>\n",
       "      <th>1457</th>\n",
       "      <td>Bin_1</td>\n",
       "      <td>Bin_1</td>\n",
       "      <td>Bin_3</td>\n",
       "      <td>Bin_1</td>\n",
       "      <td>Bin_3</td>\n",
       "      <td>Bin_1</td>\n",
       "      <td>Bin_1</td>\n",
       "      <td>Bin_4</td>\n",
       "      <td>Bin_1</td>\n",
       "      <td>Bin_1</td>\n",
       "      <td>Bin_1</td>\n",
       "      <td>Bin_1</td>\n",
       "      <td>Bin_1</td>\n",
       "      <td>Bin_1</td>\n",
       "    </tr>\n",
       "    <tr>\n",
       "      <th>1458</th>\n",
       "      <td>Bin_1</td>\n",
       "      <td>Bin_1</td>\n",
       "      <td>Bin_2</td>\n",
       "      <td>Bin_1</td>\n",
       "      <td>Bin_4</td>\n",
       "      <td>Bin_5</td>\n",
       "      <td>Bin_1</td>\n",
       "      <td>Bin_1</td>\n",
       "      <td>Bin_1</td>\n",
       "      <td>Bin_1</td>\n",
       "      <td>Bin_1</td>\n",
       "      <td>Bin_1</td>\n",
       "      <td>Bin_1</td>\n",
       "      <td>Bin_2</td>\n",
       "    </tr>\n",
       "    <tr>\n",
       "      <th>1459</th>\n",
       "      <td>Bin_1</td>\n",
       "      <td>Bin_1</td>\n",
       "      <td>Bin_1</td>\n",
       "      <td>Bin_6</td>\n",
       "      <td>Bin_1</td>\n",
       "      <td>Bin_1</td>\n",
       "      <td>Bin_1</td>\n",
       "      <td>Bin_4</td>\n",
       "      <td>Bin_1</td>\n",
       "      <td>Bin_2</td>\n",
       "      <td>Bin_1</td>\n",
       "      <td>Bin_1</td>\n",
       "      <td>Bin_1</td>\n",
       "      <td>Bin_1</td>\n",
       "    </tr>\n",
       "    <tr>\n",
       "      <th>1460</th>\n",
       "      <td>Bin_1</td>\n",
       "      <td>Bin_1</td>\n",
       "      <td>Bin_4</td>\n",
       "      <td>Bin_2</td>\n",
       "      <td>Bin_1</td>\n",
       "      <td>Bin_1</td>\n",
       "      <td>Bin_1</td>\n",
       "      <td>Bin_7</td>\n",
       "      <td>Bin_1</td>\n",
       "      <td>Bin_1</td>\n",
       "      <td>Bin_1</td>\n",
       "      <td>Bin_1</td>\n",
       "      <td>Bin_1</td>\n",
       "      <td>Bin_1</td>\n",
       "    </tr>\n",
       "  </tbody>\n",
       "</table>\n",
       "<p>1458 rows × 14 columns</p>\n",
       "</div>"
      ],
      "text/plain": [
       "     LotArea MasVnrArea BsmtFinSF1 BsmtFinSF2 BsmtUnfSF 2ndFlrSF LowQualFinSF  \\\n",
       "Id                                                                              \n",
       "1      Bin_1      Bin_1      Bin_3      Bin_1     Bin_1    Bin_4        Bin_1   \n",
       "2      Bin_1      Bin_1      Bin_4      Bin_1     Bin_1    Bin_1        Bin_1   \n",
       "3      Bin_1      Bin_1      Bin_2      Bin_1     Bin_2    Bin_4        Bin_1   \n",
       "4      Bin_1      Bin_1      Bin_1      Bin_1     Bin_2    Bin_3        Bin_1   \n",
       "5      Bin_1      Bin_2      Bin_3      Bin_1     Bin_2    Bin_5        Bin_1   \n",
       "...      ...        ...        ...        ...       ...      ...          ...   \n",
       "1456   Bin_1      Bin_1      Bin_1      Bin_1     Bin_4    Bin_3        Bin_1   \n",
       "1457   Bin_1      Bin_1      Bin_3      Bin_1     Bin_3    Bin_1        Bin_1   \n",
       "1458   Bin_1      Bin_1      Bin_2      Bin_1     Bin_4    Bin_5        Bin_1   \n",
       "1459   Bin_1      Bin_1      Bin_1      Bin_6     Bin_1    Bin_1        Bin_1   \n",
       "1460   Bin_1      Bin_1      Bin_4      Bin_2     Bin_1    Bin_1        Bin_1   \n",
       "\n",
       "     WoodDeckSF OpenPorchSF EnclosedPorch 3SsnPorch ScreenPorch PoolArea  \\\n",
       "Id                                                                         \n",
       "1         Bin_1       Bin_1         Bin_1     Bin_1       Bin_1    Bin_1   \n",
       "2         Bin_3       Bin_1         Bin_1     Bin_1       Bin_1    Bin_1   \n",
       "3         Bin_1       Bin_1         Bin_1     Bin_1       Bin_1    Bin_1   \n",
       "4         Bin_1       Bin_1         Bin_4     Bin_1       Bin_1    Bin_1   \n",
       "5         Bin_2       Bin_2         Bin_1     Bin_1       Bin_1    Bin_1   \n",
       "...         ...         ...           ...       ...         ...      ...   \n",
       "1456      Bin_1       Bin_1         Bin_1     Bin_1       Bin_1    Bin_1   \n",
       "1457      Bin_4       Bin_1         Bin_1     Bin_1       Bin_1    Bin_1   \n",
       "1458      Bin_1       Bin_1         Bin_1     Bin_1       Bin_1    Bin_1   \n",
       "1459      Bin_4       Bin_1         Bin_2     Bin_1       Bin_1    Bin_1   \n",
       "1460      Bin_7       Bin_1         Bin_1     Bin_1       Bin_1    Bin_1   \n",
       "\n",
       "     MiscVal  \n",
       "Id            \n",
       "1      Bin_1  \n",
       "2      Bin_1  \n",
       "3      Bin_1  \n",
       "4      Bin_1  \n",
       "5      Bin_1  \n",
       "...      ...  \n",
       "1456   Bin_1  \n",
       "1457   Bin_1  \n",
       "1458   Bin_2  \n",
       "1459   Bin_1  \n",
       "1460   Bin_1  \n",
       "\n",
       "[1458 rows x 14 columns]"
      ]
     },
     "execution_count": 30,
     "metadata": {},
     "output_type": "execute_result"
    }
   ],
   "source": [
    "data[vars_to_discret]"
   ]
  },
  {
   "cell_type": "code",
   "execution_count": 31,
   "id": "015bc7df",
   "metadata": {},
   "outputs": [
    {
     "data": {
      "text/plain": [
       "(1458, 78)"
      ]
     },
     "execution_count": 31,
     "metadata": {},
     "output_type": "execute_result"
    }
   ],
   "source": [
    "data.shape"
   ]
  },
  {
   "cell_type": "code",
   "execution_count": 32,
   "id": "ef2da146",
   "metadata": {},
   "outputs": [],
   "source": [
    "from collections import defaultdict\n",
    "from sklearn.preprocessing import LabelEncoder\n",
    "\n",
    "d = defaultdict(LabelEncoder)\n",
    "\n",
    "# only want to labelEncode nominal, ordinal, and discretized variables!\n",
    "\n",
    "# fitting to train set\n",
    "data[ordinal] = data[ordinal].apply(lambda x: d[x.name].fit_transform(x))\n",
    "data[nominal] = data[nominal].apply(lambda x: d[x.name].fit_transform(x))\n",
    "data[vars_to_discret] = data[vars_to_discret].apply(lambda x: d[x.name].fit_transform(x))"
   ]
  },
  {
   "cell_type": "code",
   "execution_count": 33,
   "id": "721e6fb3",
   "metadata": {},
   "outputs": [
    {
     "data": {
      "text/html": [
       "<div>\n",
       "<style scoped>\n",
       "    .dataframe tbody tr th:only-of-type {\n",
       "        vertical-align: middle;\n",
       "    }\n",
       "\n",
       "    .dataframe tbody tr th {\n",
       "        vertical-align: top;\n",
       "    }\n",
       "\n",
       "    .dataframe thead th {\n",
       "        text-align: right;\n",
       "    }\n",
       "</style>\n",
       "<table border=\"1\" class=\"dataframe\">\n",
       "  <thead>\n",
       "    <tr style=\"text-align: right;\">\n",
       "      <th></th>\n",
       "      <th>MSSubClass</th>\n",
       "      <th>MSZoning</th>\n",
       "      <th>LotFrontage</th>\n",
       "      <th>LotArea</th>\n",
       "      <th>Street</th>\n",
       "      <th>Alley</th>\n",
       "      <th>LotShape</th>\n",
       "      <th>LandContour</th>\n",
       "      <th>Utilities</th>\n",
       "      <th>LotConfig</th>\n",
       "      <th>...</th>\n",
       "      <th>3SsnPorch</th>\n",
       "      <th>ScreenPorch</th>\n",
       "      <th>PoolArea</th>\n",
       "      <th>PoolQC</th>\n",
       "      <th>Fence</th>\n",
       "      <th>MiscFeature</th>\n",
       "      <th>MiscVal</th>\n",
       "      <th>MoSold</th>\n",
       "      <th>SaleType</th>\n",
       "      <th>SaleCondition</th>\n",
       "    </tr>\n",
       "    <tr>\n",
       "      <th>Id</th>\n",
       "      <th></th>\n",
       "      <th></th>\n",
       "      <th></th>\n",
       "      <th></th>\n",
       "      <th></th>\n",
       "      <th></th>\n",
       "      <th></th>\n",
       "      <th></th>\n",
       "      <th></th>\n",
       "      <th></th>\n",
       "      <th></th>\n",
       "      <th></th>\n",
       "      <th></th>\n",
       "      <th></th>\n",
       "      <th></th>\n",
       "      <th></th>\n",
       "      <th></th>\n",
       "      <th></th>\n",
       "      <th></th>\n",
       "      <th></th>\n",
       "      <th></th>\n",
       "    </tr>\n",
       "  </thead>\n",
       "  <tbody>\n",
       "    <tr>\n",
       "      <th>1</th>\n",
       "      <td>60</td>\n",
       "      <td>3</td>\n",
       "      <td>4.189655</td>\n",
       "      <td>0</td>\n",
       "      <td>1</td>\n",
       "      <td>0</td>\n",
       "      <td>3</td>\n",
       "      <td>3</td>\n",
       "      <td>0</td>\n",
       "      <td>4</td>\n",
       "      <td>...</td>\n",
       "      <td>0</td>\n",
       "      <td>0</td>\n",
       "      <td>0</td>\n",
       "      <td>0</td>\n",
       "      <td>2</td>\n",
       "      <td>2</td>\n",
       "      <td>0</td>\n",
       "      <td>2</td>\n",
       "      <td>8</td>\n",
       "      <td>4</td>\n",
       "    </tr>\n",
       "    <tr>\n",
       "      <th>2</th>\n",
       "      <td>20</td>\n",
       "      <td>3</td>\n",
       "      <td>4.394449</td>\n",
       "      <td>0</td>\n",
       "      <td>1</td>\n",
       "      <td>0</td>\n",
       "      <td>3</td>\n",
       "      <td>3</td>\n",
       "      <td>0</td>\n",
       "      <td>2</td>\n",
       "      <td>...</td>\n",
       "      <td>0</td>\n",
       "      <td>0</td>\n",
       "      <td>0</td>\n",
       "      <td>0</td>\n",
       "      <td>2</td>\n",
       "      <td>2</td>\n",
       "      <td>0</td>\n",
       "      <td>5</td>\n",
       "      <td>8</td>\n",
       "      <td>4</td>\n",
       "    </tr>\n",
       "    <tr>\n",
       "      <th>3</th>\n",
       "      <td>60</td>\n",
       "      <td>3</td>\n",
       "      <td>4.234107</td>\n",
       "      <td>0</td>\n",
       "      <td>1</td>\n",
       "      <td>0</td>\n",
       "      <td>0</td>\n",
       "      <td>3</td>\n",
       "      <td>0</td>\n",
       "      <td>4</td>\n",
       "      <td>...</td>\n",
       "      <td>0</td>\n",
       "      <td>0</td>\n",
       "      <td>0</td>\n",
       "      <td>0</td>\n",
       "      <td>2</td>\n",
       "      <td>2</td>\n",
       "      <td>0</td>\n",
       "      <td>9</td>\n",
       "      <td>8</td>\n",
       "      <td>4</td>\n",
       "    </tr>\n",
       "    <tr>\n",
       "      <th>4</th>\n",
       "      <td>70</td>\n",
       "      <td>3</td>\n",
       "      <td>4.110874</td>\n",
       "      <td>0</td>\n",
       "      <td>1</td>\n",
       "      <td>0</td>\n",
       "      <td>0</td>\n",
       "      <td>3</td>\n",
       "      <td>0</td>\n",
       "      <td>0</td>\n",
       "      <td>...</td>\n",
       "      <td>0</td>\n",
       "      <td>0</td>\n",
       "      <td>0</td>\n",
       "      <td>0</td>\n",
       "      <td>2</td>\n",
       "      <td>2</td>\n",
       "      <td>0</td>\n",
       "      <td>2</td>\n",
       "      <td>8</td>\n",
       "      <td>0</td>\n",
       "    </tr>\n",
       "    <tr>\n",
       "      <th>5</th>\n",
       "      <td>60</td>\n",
       "      <td>3</td>\n",
       "      <td>4.442651</td>\n",
       "      <td>0</td>\n",
       "      <td>1</td>\n",
       "      <td>0</td>\n",
       "      <td>0</td>\n",
       "      <td>3</td>\n",
       "      <td>0</td>\n",
       "      <td>2</td>\n",
       "      <td>...</td>\n",
       "      <td>0</td>\n",
       "      <td>0</td>\n",
       "      <td>0</td>\n",
       "      <td>0</td>\n",
       "      <td>2</td>\n",
       "      <td>2</td>\n",
       "      <td>0</td>\n",
       "      <td>12</td>\n",
       "      <td>8</td>\n",
       "      <td>4</td>\n",
       "    </tr>\n",
       "    <tr>\n",
       "      <th>...</th>\n",
       "      <td>...</td>\n",
       "      <td>...</td>\n",
       "      <td>...</td>\n",
       "      <td>...</td>\n",
       "      <td>...</td>\n",
       "      <td>...</td>\n",
       "      <td>...</td>\n",
       "      <td>...</td>\n",
       "      <td>...</td>\n",
       "      <td>...</td>\n",
       "      <td>...</td>\n",
       "      <td>...</td>\n",
       "      <td>...</td>\n",
       "      <td>...</td>\n",
       "      <td>...</td>\n",
       "      <td>...</td>\n",
       "      <td>...</td>\n",
       "      <td>...</td>\n",
       "      <td>...</td>\n",
       "      <td>...</td>\n",
       "      <td>...</td>\n",
       "    </tr>\n",
       "    <tr>\n",
       "      <th>1456</th>\n",
       "      <td>60</td>\n",
       "      <td>3</td>\n",
       "      <td>4.143135</td>\n",
       "      <td>0</td>\n",
       "      <td>1</td>\n",
       "      <td>0</td>\n",
       "      <td>3</td>\n",
       "      <td>3</td>\n",
       "      <td>0</td>\n",
       "      <td>4</td>\n",
       "      <td>...</td>\n",
       "      <td>0</td>\n",
       "      <td>0</td>\n",
       "      <td>0</td>\n",
       "      <td>0</td>\n",
       "      <td>2</td>\n",
       "      <td>2</td>\n",
       "      <td>0</td>\n",
       "      <td>8</td>\n",
       "      <td>8</td>\n",
       "      <td>4</td>\n",
       "    </tr>\n",
       "    <tr>\n",
       "      <th>1457</th>\n",
       "      <td>20</td>\n",
       "      <td>3</td>\n",
       "      <td>4.454347</td>\n",
       "      <td>0</td>\n",
       "      <td>1</td>\n",
       "      <td>0</td>\n",
       "      <td>3</td>\n",
       "      <td>3</td>\n",
       "      <td>0</td>\n",
       "      <td>4</td>\n",
       "      <td>...</td>\n",
       "      <td>0</td>\n",
       "      <td>0</td>\n",
       "      <td>0</td>\n",
       "      <td>0</td>\n",
       "      <td>2</td>\n",
       "      <td>2</td>\n",
       "      <td>0</td>\n",
       "      <td>2</td>\n",
       "      <td>8</td>\n",
       "      <td>4</td>\n",
       "    </tr>\n",
       "    <tr>\n",
       "      <th>1458</th>\n",
       "      <td>70</td>\n",
       "      <td>3</td>\n",
       "      <td>4.204693</td>\n",
       "      <td>0</td>\n",
       "      <td>1</td>\n",
       "      <td>0</td>\n",
       "      <td>3</td>\n",
       "      <td>3</td>\n",
       "      <td>0</td>\n",
       "      <td>4</td>\n",
       "      <td>...</td>\n",
       "      <td>0</td>\n",
       "      <td>0</td>\n",
       "      <td>0</td>\n",
       "      <td>0</td>\n",
       "      <td>0</td>\n",
       "      <td>2</td>\n",
       "      <td>1</td>\n",
       "      <td>5</td>\n",
       "      <td>8</td>\n",
       "      <td>4</td>\n",
       "    </tr>\n",
       "    <tr>\n",
       "      <th>1459</th>\n",
       "      <td>20</td>\n",
       "      <td>3</td>\n",
       "      <td>4.234107</td>\n",
       "      <td>0</td>\n",
       "      <td>1</td>\n",
       "      <td>0</td>\n",
       "      <td>3</td>\n",
       "      <td>3</td>\n",
       "      <td>0</td>\n",
       "      <td>4</td>\n",
       "      <td>...</td>\n",
       "      <td>0</td>\n",
       "      <td>0</td>\n",
       "      <td>0</td>\n",
       "      <td>0</td>\n",
       "      <td>2</td>\n",
       "      <td>2</td>\n",
       "      <td>0</td>\n",
       "      <td>4</td>\n",
       "      <td>8</td>\n",
       "      <td>4</td>\n",
       "    </tr>\n",
       "    <tr>\n",
       "      <th>1460</th>\n",
       "      <td>20</td>\n",
       "      <td>3</td>\n",
       "      <td>4.330733</td>\n",
       "      <td>0</td>\n",
       "      <td>1</td>\n",
       "      <td>0</td>\n",
       "      <td>3</td>\n",
       "      <td>3</td>\n",
       "      <td>0</td>\n",
       "      <td>4</td>\n",
       "      <td>...</td>\n",
       "      <td>0</td>\n",
       "      <td>0</td>\n",
       "      <td>0</td>\n",
       "      <td>0</td>\n",
       "      <td>2</td>\n",
       "      <td>2</td>\n",
       "      <td>0</td>\n",
       "      <td>6</td>\n",
       "      <td>8</td>\n",
       "      <td>4</td>\n",
       "    </tr>\n",
       "  </tbody>\n",
       "</table>\n",
       "<p>1458 rows × 78 columns</p>\n",
       "</div>"
      ],
      "text/plain": [
       "      MSSubClass  MSZoning  LotFrontage  LotArea  Street  Alley  LotShape  \\\n",
       "Id                                                                          \n",
       "1             60         3     4.189655        0       1      0         3   \n",
       "2             20         3     4.394449        0       1      0         3   \n",
       "3             60         3     4.234107        0       1      0         0   \n",
       "4             70         3     4.110874        0       1      0         0   \n",
       "5             60         3     4.442651        0       1      0         0   \n",
       "...          ...       ...          ...      ...     ...    ...       ...   \n",
       "1456          60         3     4.143135        0       1      0         3   \n",
       "1457          20         3     4.454347        0       1      0         3   \n",
       "1458          70         3     4.204693        0       1      0         3   \n",
       "1459          20         3     4.234107        0       1      0         3   \n",
       "1460          20         3     4.330733        0       1      0         3   \n",
       "\n",
       "      LandContour  Utilities  LotConfig  ...  3SsnPorch  ScreenPorch  \\\n",
       "Id                                       ...                           \n",
       "1               3          0          4  ...          0            0   \n",
       "2               3          0          2  ...          0            0   \n",
       "3               3          0          4  ...          0            0   \n",
       "4               3          0          0  ...          0            0   \n",
       "5               3          0          2  ...          0            0   \n",
       "...           ...        ...        ...  ...        ...          ...   \n",
       "1456            3          0          4  ...          0            0   \n",
       "1457            3          0          4  ...          0            0   \n",
       "1458            3          0          4  ...          0            0   \n",
       "1459            3          0          4  ...          0            0   \n",
       "1460            3          0          4  ...          0            0   \n",
       "\n",
       "      PoolArea  PoolQC  Fence  MiscFeature  MiscVal  MoSold  SaleType  \\\n",
       "Id                                                                      \n",
       "1            0       0      2            2        0       2         8   \n",
       "2            0       0      2            2        0       5         8   \n",
       "3            0       0      2            2        0       9         8   \n",
       "4            0       0      2            2        0       2         8   \n",
       "5            0       0      2            2        0      12         8   \n",
       "...        ...     ...    ...          ...      ...     ...       ...   \n",
       "1456         0       0      2            2        0       8         8   \n",
       "1457         0       0      2            2        0       2         8   \n",
       "1458         0       0      0            2        1       5         8   \n",
       "1459         0       0      2            2        0       4         8   \n",
       "1460         0       0      2            2        0       6         8   \n",
       "\n",
       "      SaleCondition  \n",
       "Id                   \n",
       "1                 4  \n",
       "2                 4  \n",
       "3                 4  \n",
       "4                 0  \n",
       "5                 4  \n",
       "...             ...  \n",
       "1456              4  \n",
       "1457              4  \n",
       "1458              4  \n",
       "1459              4  \n",
       "1460              4  \n",
       "\n",
       "[1458 rows x 78 columns]"
      ]
     },
     "execution_count": 33,
     "metadata": {},
     "output_type": "execute_result"
    }
   ],
   "source": [
    "data"
   ]
  },
  {
   "cell_type": "code",
   "execution_count": 34,
   "id": "cb3e3995",
   "metadata": {},
   "outputs": [],
   "source": [
    "data_encoded = data.copy()"
   ]
  },
  {
   "cell_type": "code",
   "execution_count": 35,
   "id": "66c96ab6",
   "metadata": {},
   "outputs": [
    {
     "data": {
      "text/plain": [
       "(1458, 78)"
      ]
     },
     "execution_count": 35,
     "metadata": {},
     "output_type": "execute_result"
    }
   ],
   "source": [
    "data_encoded.shape"
   ]
  },
  {
   "cell_type": "code",
   "execution_count": 36,
   "id": "91043d66",
   "metadata": {},
   "outputs": [
    {
     "name": "stdout",
     "output_type": "stream",
     "text": [
      "Features with 1 value taking up 95% or more of the feature space:  Index(['Street', 'Alley', 'Utilities', 'KitchenAbvGr', 'PoolArea', 'PoolQC',\n",
      "       'MiscFeature', 'MiscVal'],\n",
      "      dtype='object')\n"
     ]
    },
    {
     "data": {
      "text/plain": [
       "(1458, 70)"
      ]
     },
     "execution_count": 36,
     "metadata": {},
     "output_type": "execute_result"
    }
   ],
   "source": [
    "from sklearn.feature_selection import VarianceThreshold\n",
    "\n",
    "# fitting the threshold to all features of Xtrain,\n",
    "# VarianceThreshold finds all features with values taking 99% and above of the feature space \n",
    "sel = VarianceThreshold(threshold=0.05)  \n",
    "sel.fit(data)\n",
    "\n",
    "# finding which features have values over the threshold\n",
    "quasiConstant = data.columns[~sel.get_support()]\n",
    "print('Features with 1 value taking up 95% or more of the feature space: ', quasiConstant)\n",
    "\n",
    "#capture feature names of variables we want to keep\n",
    "featNames = data.columns[sel.get_support()]\n",
    "\n",
    "#removing the unwanted features\n",
    "data = sel.transform(data)\n",
    "\n",
    "# trasnforming back into dataframe\n",
    "data = pd.DataFrame(data, columns=featNames)\n",
    "\n",
    "data.shape"
   ]
  },
  {
   "cell_type": "code",
   "execution_count": 37,
   "id": "4c486d22",
   "metadata": {},
   "outputs": [],
   "source": [
    "RandomNewVariables = ['NeighborhoodLF', 'NeighborhoodQual_Cond', 'NeighborhoodHS', 'TotalBath', 'OverallExterior']"
   ]
  },
  {
   "cell_type": "code",
   "execution_count": 38,
   "id": "bab3d292",
   "metadata": {},
   "outputs": [
    {
     "data": {
      "text/plain": [
       "<AxesSubplot:>"
      ]
     },
     "execution_count": 38,
     "metadata": {},
     "output_type": "execute_result"
    },
    {
     "data": {
      "image/png": "[encoded data removed]",
      "text/plain": [
       "<Figure size 792x792 with 2 Axes>"
      ]
     },
     "metadata": {
      "needs_background": "light"
     },
     "output_type": "display_data"
    }
   ],
   "source": [
    "corrmat = data.corr(method='pearson')\n",
    "cmap = sns.diverging_palette(220, 20, as_cmap=True)\n",
    "fig, ax = plt.subplots()\n",
    "fig.set_size_inches(11,11)\n",
    "sns.heatmap(corrmat, cmap=cmap)"
   ]
  },
  {
   "cell_type": "code",
   "execution_count": 39,
   "id": "1f6b56e3",
   "metadata": {},
   "outputs": [
    {
     "name": "stdout",
     "output_type": "stream",
     "text": [
      "0.8539259034604927 Exterior2nd Exterior1st\n",
      "0.8229827843482296 TotRmsAbvGrd GrLivArea\n"
     ]
    }
   ],
   "source": [
    "def correlated(df, threshold):\n",
    "    # create the correlation matrix\n",
    "    corrMatrix = df.corr()\n",
    "    \n",
    "    # for each feature in the dataset (columns of the correlation matrix)\n",
    "    for i in range(len(corrMatrix.columns)):\n",
    "        \n",
    "        # check with other features\n",
    "        for j in range(i):\n",
    "            \n",
    "            # if the correlation is higher than a certain threshold\n",
    "            if abs(corrMatrix.iloc[i, j]) >= threshold:\n",
    "                \n",
    "                # print correlation, and variables examined\n",
    "                # keep in mind that the columns and rows of the dataframe are identical\n",
    "                # so we can identify the features being examned by looking for i,j\n",
    "                # in the column names\n",
    "                print(abs(corrMatrix.iloc[i, j]), corrMatrix.columns[i], corrMatrix.columns[j])\n",
    "                \n",
    "\n",
    "corrFeatures = correlated(data, 0.8)"
   ]
  },
  {
   "cell_type": "code",
   "execution_count": 40,
   "id": "89b9019f",
   "metadata": {},
   "outputs": [],
   "source": [
    "featuresToDrop = ['Exterior1st', 'Exterior2nd', 'TotRmsAbvGrd']\n",
    "data.drop(labels=featuresToDrop, axis=1, inplace=True)"
   ]
  },
  {
   "cell_type": "code",
   "execution_count": 41,
   "id": "f82a0e02",
   "metadata": {},
   "outputs": [
    {
     "data": {
      "text/plain": [
       "(1458, 67)"
      ]
     },
     "execution_count": 41,
     "metadata": {},
     "output_type": "execute_result"
    }
   ],
   "source": [
    "data.shape"
   ]
  },
  {
   "cell_type": "code",
   "execution_count": 42,
   "id": "6e653656",
   "metadata": {},
   "outputs": [
    {
     "name": "stdout",
     "output_type": "stream",
     "text": [
      "NA features in data : 0\n"
     ]
    }
   ],
   "source": [
    "print(\"NA features in data : \" + str(data.isnull().values.sum()))"
   ]
  },
  {
   "cell_type": "code",
   "execution_count": 43,
   "id": "2e1fa32c",
   "metadata": {},
   "outputs": [
    {
     "data": {
      "text/plain": [
       "OverallQual      0.573395\n",
       "GarageCars       0.374614\n",
       "YearBuilt        0.336249\n",
       "BsmtQual         0.311832\n",
       "GarageYrBlt      0.263969\n",
       "GarageFinish     0.253822\n",
       "Fireplaces       0.173821\n",
       "BsmtFinSF1       0.145112\n",
       "OverallCond      0.123180\n",
       "MasVnrArea       0.104549\n",
       "FireplaceQu      0.091715\n",
       "HouseStyle       0.082725\n",
       "BedroomAbvGr     0.073939\n",
       "Electrical       0.050042\n",
       "BldgType         0.042367\n",
       "EnclosedPorch    0.022654\n",
       "BsmtCond         0.018668\n",
       "GarageCond       0.016139\n",
       "BsmtHalfBath     0.011939\n",
       "RoofStyle        0.005677\n",
       "LotArea          0.004575\n",
       "Condition2       0.002283\n",
       "MoSold           0.000000\n",
       "Name: MI Scores, dtype: float64"
      ]
     },
     "execution_count": 43,
     "metadata": {},
     "output_type": "execute_result"
    }
   ],
   "source": [
    "from sklearn.feature_selection import mutual_info_regression\n",
    "\n",
    "def make_mi_scores(X, y):\n",
    "    mi_scores = mutual_info_regression(X, y)\n",
    "    mi_scores = pd.Series(mi_scores, name=\"MI Scores\", index=X.columns)\n",
    "    mi_scores = mi_scores.sort_values(ascending=False)\n",
    "    return mi_scores\n",
    "\n",
    "mi_scores = make_mi_scores(data, target)\n",
    "mi_scores[::3]  # show a few features with their MI scores"
   ]
  },
  {
   "cell_type": "code",
   "execution_count": 44,
   "id": "6ab861e9",
   "metadata": {},
   "outputs": [
    {
     "data": {
      "text/plain": [
       "(1458, 67)"
      ]
     },
     "execution_count": 44,
     "metadata": {},
     "output_type": "execute_result"
    }
   ],
   "source": [
    "data.shape"
   ]
  },
  {
   "cell_type": "code",
   "execution_count": 45,
   "id": "5e9f50c2",
   "metadata": {},
   "outputs": [
    {
     "name": "stdout",
     "output_type": "stream",
     "text": [
      "Xtrain : (1020, 67)\n",
      "Xtest : (438, 67)\n",
      "ytrain : (1020,)\n",
      "ytest : (438,)\n"
     ]
    }
   ],
   "source": [
    "Xtrain, Xtest, ytrain, ytest = train_test_split(data, target, test_size = 0.3, random_state = 0)\n",
    "print(\"Xtrain : \" + str(Xtrain.shape))\n",
    "print(\"Xtest : \" + str(Xtest.shape))\n",
    "print(\"ytrain : \" + str(ytrain.shape))\n",
    "print(\"ytest : \" + str(ytest.shape))"
   ]
  },
  {
   "cell_type": "code",
   "execution_count": 46,
   "id": "1b6240ad",
   "metadata": {},
   "outputs": [],
   "source": [
    "# standardizing the datasets\n",
    "\n",
    "scaler = StandardScaler()\n",
    "scaler.fit(Xtrain)\n",
    "\n",
    "trainScaled = scaler.transform(Xtrain)\n",
    "#testScaled = scaler.transform(Xtest)\n",
    "\n",
    "trainScaled = pd.DataFrame(trainScaled, columns=Xtrain.columns)\n",
    "#testScaled = pd.DataFrame(testScaled, columns=Xtest.columns)"
   ]
  },
  {
   "cell_type": "code",
   "execution_count": 47,
   "id": "7bd7bd48",
   "metadata": {},
   "outputs": [
    {
     "data": {
      "text/plain": [
       "((1020, 67), (438, 67))"
      ]
     },
     "execution_count": 47,
     "metadata": {},
     "output_type": "execute_result"
    }
   ],
   "source": [
    "Xtrain.shape, Xtest.shape"
   ]
  },
  {
   "cell_type": "code",
   "execution_count": 48,
   "id": "6cc9cc6a",
   "metadata": {},
   "outputs": [
    {
     "data": {
      "text/html": [
       "<div>\n",
       "<style scoped>\n",
       "    .dataframe tbody tr th:only-of-type {\n",
       "        vertical-align: middle;\n",
       "    }\n",
       "\n",
       "    .dataframe tbody tr th {\n",
       "        vertical-align: top;\n",
       "    }\n",
       "\n",
       "    .dataframe thead th {\n",
       "        text-align: right;\n",
       "    }\n",
       "</style>\n",
       "<table border=\"1\" class=\"dataframe\">\n",
       "  <thead>\n",
       "    <tr style=\"text-align: right;\">\n",
       "      <th></th>\n",
       "      <th>MSSubClass</th>\n",
       "      <th>MSZoning</th>\n",
       "      <th>LotFrontage</th>\n",
       "      <th>LotArea</th>\n",
       "      <th>LotShape</th>\n",
       "      <th>LandContour</th>\n",
       "      <th>LotConfig</th>\n",
       "      <th>LandSlope</th>\n",
       "      <th>Neighborhood</th>\n",
       "      <th>Condition1</th>\n",
       "      <th>...</th>\n",
       "      <th>PavedDrive</th>\n",
       "      <th>WoodDeckSF</th>\n",
       "      <th>OpenPorchSF</th>\n",
       "      <th>EnclosedPorch</th>\n",
       "      <th>3SsnPorch</th>\n",
       "      <th>ScreenPorch</th>\n",
       "      <th>Fence</th>\n",
       "      <th>MoSold</th>\n",
       "      <th>SaleType</th>\n",
       "      <th>SaleCondition</th>\n",
       "    </tr>\n",
       "  </thead>\n",
       "  <tbody>\n",
       "    <tr>\n",
       "      <th>464</th>\n",
       "      <td>20.0</td>\n",
       "      <td>3.0</td>\n",
       "      <td>4.110874</td>\n",
       "      <td>0.0</td>\n",
       "      <td>3.0</td>\n",
       "      <td>1.0</td>\n",
       "      <td>4.0</td>\n",
       "      <td>1.0</td>\n",
       "      <td>5.0</td>\n",
       "      <td>2.0</td>\n",
       "      <td>...</td>\n",
       "      <td>2.0</td>\n",
       "      <td>0.0</td>\n",
       "      <td>0.0</td>\n",
       "      <td>0.0</td>\n",
       "      <td>0.0</td>\n",
       "      <td>0.0</td>\n",
       "      <td>2.0</td>\n",
       "      <td>8.0</td>\n",
       "      <td>8.0</td>\n",
       "      <td>4.0</td>\n",
       "    </tr>\n",
       "    <tr>\n",
       "      <th>1217</th>\n",
       "      <td>50.0</td>\n",
       "      <td>4.0</td>\n",
       "      <td>3.970292</td>\n",
       "      <td>0.0</td>\n",
       "      <td>3.0</td>\n",
       "      <td>3.0</td>\n",
       "      <td>4.0</td>\n",
       "      <td>0.0</td>\n",
       "      <td>3.0</td>\n",
       "      <td>2.0</td>\n",
       "      <td>...</td>\n",
       "      <td>0.0</td>\n",
       "      <td>0.0</td>\n",
       "      <td>0.0</td>\n",
       "      <td>0.0</td>\n",
       "      <td>0.0</td>\n",
       "      <td>0.0</td>\n",
       "      <td>2.0</td>\n",
       "      <td>7.0</td>\n",
       "      <td>8.0</td>\n",
       "      <td>4.0</td>\n",
       "    </tr>\n",
       "    <tr>\n",
       "      <th>328</th>\n",
       "      <td>75.0</td>\n",
       "      <td>3.0</td>\n",
       "      <td>4.248495</td>\n",
       "      <td>0.0</td>\n",
       "      <td>0.0</td>\n",
       "      <td>0.0</td>\n",
       "      <td>4.0</td>\n",
       "      <td>0.0</td>\n",
       "      <td>3.0</td>\n",
       "      <td>4.0</td>\n",
       "      <td>...</td>\n",
       "      <td>2.0</td>\n",
       "      <td>0.0</td>\n",
       "      <td>0.0</td>\n",
       "      <td>3.0</td>\n",
       "      <td>0.0</td>\n",
       "      <td>0.0</td>\n",
       "      <td>2.0</td>\n",
       "      <td>7.0</td>\n",
       "      <td>8.0</td>\n",
       "      <td>4.0</td>\n",
       "    </tr>\n",
       "    <tr>\n",
       "      <th>601</th>\n",
       "      <td>60.0</td>\n",
       "      <td>3.0</td>\n",
       "      <td>4.394449</td>\n",
       "      <td>0.0</td>\n",
       "      <td>0.0</td>\n",
       "      <td>3.0</td>\n",
       "      <td>4.0</td>\n",
       "      <td>0.0</td>\n",
       "      <td>20.0</td>\n",
       "      <td>2.0</td>\n",
       "      <td>...</td>\n",
       "      <td>2.0</td>\n",
       "      <td>1.0</td>\n",
       "      <td>2.0</td>\n",
       "      <td>0.0</td>\n",
       "      <td>0.0</td>\n",
       "      <td>0.0</td>\n",
       "      <td>2.0</td>\n",
       "      <td>2.0</td>\n",
       "      <td>8.0</td>\n",
       "      <td>0.0</td>\n",
       "    </tr>\n",
       "    <tr>\n",
       "      <th>1404</th>\n",
       "      <td>85.0</td>\n",
       "      <td>3.0</td>\n",
       "      <td>4.262680</td>\n",
       "      <td>0.0</td>\n",
       "      <td>3.0</td>\n",
       "      <td>3.0</td>\n",
       "      <td>0.0</td>\n",
       "      <td>0.0</td>\n",
       "      <td>5.0</td>\n",
       "      <td>2.0</td>\n",
       "      <td>...</td>\n",
       "      <td>2.0</td>\n",
       "      <td>0.0</td>\n",
       "      <td>0.0</td>\n",
       "      <td>0.0</td>\n",
       "      <td>0.0</td>\n",
       "      <td>0.0</td>\n",
       "      <td>2.0</td>\n",
       "      <td>3.0</td>\n",
       "      <td>8.0</td>\n",
       "      <td>4.0</td>\n",
       "    </tr>\n",
       "  </tbody>\n",
       "</table>\n",
       "<p>5 rows × 67 columns</p>\n",
       "</div>"
      ],
      "text/plain": [
       "      MSSubClass  MSZoning  LotFrontage  LotArea  LotShape  LandContour  \\\n",
       "464         20.0       3.0     4.110874      0.0       3.0          1.0   \n",
       "1217        50.0       4.0     3.970292      0.0       3.0          3.0   \n",
       "328         75.0       3.0     4.248495      0.0       0.0          0.0   \n",
       "601         60.0       3.0     4.394449      0.0       0.0          3.0   \n",
       "1404        85.0       3.0     4.262680      0.0       3.0          3.0   \n",
       "\n",
       "      LotConfig  LandSlope  Neighborhood  Condition1  ...  PavedDrive  \\\n",
       "464         4.0        1.0           5.0         2.0  ...         2.0   \n",
       "1217        4.0        0.0           3.0         2.0  ...         0.0   \n",
       "328         4.0        0.0           3.0         4.0  ...         2.0   \n",
       "601         4.0        0.0          20.0         2.0  ...         2.0   \n",
       "1404        0.0        0.0           5.0         2.0  ...         2.0   \n",
       "\n",
       "      WoodDeckSF  OpenPorchSF  EnclosedPorch  3SsnPorch  ScreenPorch  Fence  \\\n",
       "464          0.0          0.0            0.0        0.0          0.0    2.0   \n",
       "1217         0.0          0.0            0.0        0.0          0.0    2.0   \n",
       "328          0.0          0.0            3.0        0.0          0.0    2.0   \n",
       "601          1.0          2.0            0.0        0.0          0.0    2.0   \n",
       "1404         0.0          0.0            0.0        0.0          0.0    2.0   \n",
       "\n",
       "      MoSold  SaleType  SaleCondition  \n",
       "464      8.0       8.0            4.0  \n",
       "1217     7.0       8.0            4.0  \n",
       "328      7.0       8.0            4.0  \n",
       "601      2.0       8.0            0.0  \n",
       "1404     3.0       8.0            4.0  \n",
       "\n",
       "[5 rows x 67 columns]"
      ]
     },
     "execution_count": 48,
     "metadata": {},
     "output_type": "execute_result"
    }
   ],
   "source": [
    "Xtrain.head()"
   ]
  },
  {
   "cell_type": "code",
   "execution_count": 49,
   "id": "89780fcb",
   "metadata": {},
   "outputs": [],
   "source": [
    "def rmse_cv(model, df, target):\n",
    "    rmse= np.sqrt(-cross_val_score(model, df, target, scoring = \"neg_mean_squared_error\", cv = 10))\n",
    "    return(rmse)"
   ]
  },
  {
   "cell_type": "code",
   "execution_count": 50,
   "id": "6e9ee8db",
   "metadata": {},
   "outputs": [
    {
     "name": "stdout",
     "output_type": "stream",
     "text": [
      "\n",
      "RMSE on Training set : 0.12309890680526803\n",
      "RMSE on Test set : 0.13060204558474697\n",
      "\n"
     ]
    }
   ],
   "source": [
    "lr = LinearRegression()\n",
    "lr.fit(Xtrain, ytrain)\n",
    "\n",
    "# Look at predictions on training and validation set\n",
    "print()\n",
    "print(\"RMSE on Training set :\", rmse_cv(lr, Xtrain, ytrain).mean())\n",
    "print(\"RMSE on Test set :\", rmse_cv(lr, Xtest, ytest).mean())\n",
    "print()\n",
    "\n",
    "ytrainPred = lr.predict(Xtrain)\n",
    "ytestPred = lr.predict(Xtest)"
   ]
  },
  {
   "cell_type": "code",
   "execution_count": 51,
   "id": "38aa3357",
   "metadata": {},
   "outputs": [
    {
     "data": {
      "image/png": "[encoded data removed]",
      "text/plain": [
       "<Figure size 432x288 with 1 Axes>"
      ]
     },
     "metadata": {
      "needs_background": "light"
     },
     "output_type": "display_data"
    },
    {
     "data": {
      "image/png": "[encoded data removed]",
      "text/plain": [
       "<Figure size 432x288 with 1 Axes>"
      ]
     },
     "metadata": {
      "needs_background": "light"
     },
     "output_type": "display_data"
    }
   ],
   "source": [
    "# Plot residuals\n",
    "plt.scatter(ytrainPred, ytrainPred - ytrain, c = \"blue\", marker = \"s\", label = \"Training data\")\n",
    "plt.scatter(ytestPred, ytestPred - ytest, c = \"green\", marker = \"s\", label = \"Validation data\")\n",
    "plt.title(\"Linear regression\")\n",
    "plt.xlabel(\"Predicted values\")\n",
    "plt.ylabel(\"Residuals\")\n",
    "plt.legend(loc = \"upper left\")\n",
    "plt.hlines(y = 0, xmin = 10.5, xmax = 13.5, color = \"red\")\n",
    "plt.show()\n",
    "\n",
    "# Plot predictions\n",
    "plt.scatter(ytrainPred, ytrain, c = \"blue\", marker = \"s\", label = \"Training data\")\n",
    "plt.scatter(ytestPred, ytest, c = \"green\", marker = \"s\", label = \"Validation data\")\n",
    "plt.title(\"Linear regression\")\n",
    "plt.xlabel(\"Predicted values\")\n",
    "plt.ylabel(\"Real values\")\n",
    "plt.legend(loc = \"upper left\")\n",
    "plt.plot([10.5, 13.5], [10.5, 13.5], c = \"red\")\n",
    "plt.show()"
   ]
  },
  {
   "cell_type": "code",
   "execution_count": null,
   "id": "7331176d",
   "metadata": {},
   "outputs": [],
   "source": []
  }
 ],
 "metadata": {
  "kernelspec": {
   "display_name": "Python 3",
   "language": "python",
   "name": "python3"
  },
  "language_info": {
   "codemirror_mode": {
    "name": "ipython",
    "version": 3
   },
   "file_extension": ".py",
   "mimetype": "text/x-python",
   "name": "python",
   "nbconvert_exporter": "python",
   "pygments_lexer": "ipython3",
   "version": "3.8.8"
  }
 },
 "nbformat": 4,
 "nbformat_minor": 5
}
